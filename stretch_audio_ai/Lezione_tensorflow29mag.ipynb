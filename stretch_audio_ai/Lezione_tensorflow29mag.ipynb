{
 "cells": [
  {
   "cell_type": "markdown",
   "id": "317c1fdb",
   "metadata": {},
   "source": [
    "# Introduzione all'intelligenza artificiale"
   ]
  },
  {
   "cell_type": "code",
   "execution_count": 9,
   "id": "5ae78fac",
   "metadata": {},
   "outputs": [],
   "source": [
    "def scatter_plot_approx():\n",
    "    import numpy as np\n",
    "    import matplotlib.pyplot as plt\n",
    "\n",
    "    # Generate random data\n",
    "    x = np.random.rand(100)\n",
    "    y = np.random.rand(100)\n",
    "\n",
    "    # Create a scatter plot\n",
    "    plt.scatter(x, y, color='blue', alpha=0.5)\n",
    "\n",
    "    # Set labels and title\n",
    "    plt.xlabel('X-axis')\n",
    "    plt.ylabel('Y-axis')\n",
    "    plt.title('Scatter Plot Approximation')\n",
    "\n",
    "    # Show the plot\n",
    "    plt.show()"
   ]
  },
  {
   "cell_type": "code",
   "execution_count": 10,
   "id": "3f7cb483",
   "metadata": {},
   "outputs": [
    {
     "ename": "NameError",
     "evalue": "name 'np' is not defined",
     "output_type": "error",
     "traceback": [
      "\u001b[31m---------------------------------------------------------------------------\u001b[39m",
      "\u001b[31mNameError\u001b[39m                                 Traceback (most recent call last)",
      "\u001b[36mCell\u001b[39m\u001b[36m \u001b[39m\u001b[32mIn[10]\u001b[39m\u001b[32m, line 2\u001b[39m\n\u001b[32m      1\u001b[39m \u001b[38;5;66;03m# Dataset\u001b[39;00m\n\u001b[32m----> \u001b[39m\u001b[32m2\u001b[39m dataset = \u001b[43mnp\u001b[49m.array([[\u001b[32m3.0\u001b[39m, \u001b[32m1.0\u001b[39m], [\u001b[32m1.0\u001b[39m, \u001b[32m3.0\u001b[39m]])\n\u001b[32m      3\u001b[39m lunghezza = dataset.T[\u001b[32m0\u001b[39m]  \u001b[38;5;66;03m# Coordinate x\u001b[39;00m\n\u001b[32m      4\u001b[39m larghezza = dataset.T[\u001b[32m1\u001b[39m]  \u001b[38;5;66;03m# Coordinate y\u001b[39;00m\n",
      "\u001b[31mNameError\u001b[39m: name 'np' is not defined"
     ]
    }
   ],
   "source": [
    "# Dataset\n",
    "dataset = np.array([[3.0, 1.0], [1.0, 3.0]])\n",
    "lunghezza = dataset.T[0]  # Coordinate x\n",
    "larghezza = dataset.T[1]  # Coordinate y\n",
    "etichette = np.array(['coccinella', 'mosca'])\n",
    "\n",
    "# Inizializzazione parametri\n",
    "w1 = 0.25  # Peso iniziale\n",
    "b = 0       # Bias\n",
    "\n",
    "plot_result(lunghezza, larghezza, etichette, w1, b)"
   ]
  },
  {
   "cell_type": "markdown",
   "id": "d87ded36",
   "metadata": {},
   "source": [
    "Dopo aver osservato il dataset 9 volte, i lrisultato dell'algoritmo ci dice che la rtta ch emeglio divide le nostre 2 classi è y=1.02x+0. "
   ]
  },
  {
   "cell_type": "markdown",
   "id": "821d9130",
   "metadata": {},
   "source": [
    "potremmo definire quindi una soglia grazie alla quale potremmo dire"
   ]
  },
  {
   "cell_type": "code",
   "execution_count": null,
   "id": "23100ae9",
   "metadata": {},
   "outputs": [
    {
     "ename": "NameError",
     "evalue": "name 'np' is not defined",
     "output_type": "error",
     "traceback": [
      "\u001b[31m---------------------------------------------------------------------------\u001b[39m",
      "\u001b[31mNameError\u001b[39m                                 Traceback (most recent call last)",
      "\u001b[36mCell\u001b[39m\u001b[36m \u001b[39m\u001b[32mIn[5]\u001b[39m\u001b[32m, line 1\u001b[39m\n\u001b[32m----> \u001b[39m\u001b[32m1\u001b[39m lunghezza_brano = \u001b[43mnp\u001b[49m.array[(\u001b[32m1\u001b[39m,\u001b[32m2\u001b[39m,\u001b[32m3\u001b[39m,\u001b[32m4\u001b[39m,\u001b[32m5\u001b[39m,\u001b[32m6\u001b[39m,\u001b[32m7\u001b[39m,\u001b[32m8\u001b[39m,\u001b[32m9\u001b[39m,\u001b[32m10\u001b[39m)]\n",
      "\u001b[31mNameError\u001b[39m: name 'np' is not defined"
     ]
    }
   ],
   "source": [
    "lunghezza_brano = np.array[(1,2,3,4,5,6,7,8,9,10)]"
   ]
  },
  {
   "cell_type": "code",
   "execution_count": null,
   "id": "cfe817ad",
   "metadata": {},
   "outputs": [
    {
     "ename": "NameError",
     "evalue": "name 'lunghezza_brano' is not defined",
     "output_type": "error",
     "traceback": [
      "\u001b[31m---------------------------------------------------------------------------\u001b[39m",
      "\u001b[31mNameError\u001b[39m                                 Traceback (most recent call last)",
      "\u001b[36mCell\u001b[39m\u001b[36m \u001b[39m\u001b[32mIn[3]\u001b[39m\u001b[32m, line 1\u001b[39m\n\u001b[32m----> \u001b[39m\u001b[32m1\u001b[39m batch_size = \u001b[38;5;28mlen\u001b[39m(\u001b[43mlunghezza_brano\u001b[49m)\n\u001b[32m      2\u001b[39m \u001b[38;5;66;03m#quante volte l'algoritmo deve scorrere il dataset\u001b[39;00m\n\u001b[32m      3\u001b[39m num_epochs = \u001b[32m100\u001b[39m\n",
      "\u001b[31mNameError\u001b[39m: name 'lunghezza_brano' is not defined"
     ]
    }
   ],
   "source": [
    "#inizializzo i due parametri casualmente\n",
    "w1 = 0.25\n",
    "b = 0\n",
    "#learning rate assegnato arbitrariamente (tra 0 e 1)\n",
    "\n",
    "l = 0.01  # Learning rate\n",
    "losses = []  # Lista per memorizzare le perdite\n",
    "#quanto è grande il il dataset (batch_size)\n",
    "batch_size = len(lunghezza_brano)\n",
    "#quante volte l'algoritmo deve scorrere il dataset\n",
    "num_epochs = 100\n",
    "for i in range(num_epochs):\n",
    "    for j in range(batch_size):\n",
    "        x = lunghezza_brano[j]\n",
    "        target = scrivilo[j]\n",
    "        out = w1 * x + b\n",
    "        out = 1 if out >= 0 else 0  # Funzione di attivazione step\n",
    "        error = target - out\n",
    "        deltaw1 = error * x * l\n",
    "        deltab = error * l\n",
    "        w1 += deltaw1\n",
    "        b += deltab\n",
    "scatter_plot_approx()"
   ]
  },
  {
   "cell_type": "code",
   "execution_count": null,
   "id": "8ecf759e",
   "metadata": {},
   "outputs": [],
   "source": [
    "if (w1 * 6 + b) >= 0:\n",
    "    print(\"scrivilo\")\n",
    "else:\n",
    "    print(\"non scrivilo\")"
   ]
  },
  {
   "cell_type": "markdown",
   "id": "4983713b",
   "metadata": {},
   "source": [
    "correggere l'errore in funzione di quanto incide: i gradienti\n",
    "MEttiamoci nell'ottica di trovare la loss function (funzione obiettivo)\n",
    "Troviamo la MSE (Mean quare error)\n"
   ]
  },
  {
   "cell_type": "code",
   "execution_count": 11,
   "id": "36b5a6f5",
   "metadata": {},
   "outputs": [
    {
     "ename": "NameError",
     "evalue": "name 'lunghezza_brano' is not defined",
     "output_type": "error",
     "traceback": [
      "\u001b[31m---------------------------------------------------------------------------\u001b[39m",
      "\u001b[31mNameError\u001b[39m                                 Traceback (most recent call last)",
      "\u001b[36mCell\u001b[39m\u001b[36m \u001b[39m\u001b[32mIn[11]\u001b[39m\u001b[32m, line 8\u001b[39m\n\u001b[32m      6\u001b[39m l = \u001b[32m0.01\u001b[39m  \u001b[38;5;66;03m# Learning rate\u001b[39;00m\n\u001b[32m      7\u001b[39m losses = []  \u001b[38;5;66;03m# Lista per memorizzare le perdite\u001b[39;00m\n\u001b[32m----> \u001b[39m\u001b[32m8\u001b[39m batch_size = \u001b[38;5;28mlen\u001b[39m(\u001b[43mlunghezza_brano\u001b[49m)\n\u001b[32m      9\u001b[39m num_epochs = \u001b[32m1000\u001b[39m\n\u001b[32m     11\u001b[39m \u001b[38;5;28;01mfor\u001b[39;00m i \u001b[38;5;129;01min\u001b[39;00m \u001b[38;5;28mrange\u001b[39m(num_epochs):\n",
      "\u001b[31mNameError\u001b[39m: name 'lunghezza_brano' is not defined"
     ]
    }
   ],
   "source": [
    "#inizializzo i due parametri casualmente\n",
    "w1 = 0.25\n",
    "b = 0\n",
    "#learning rate assegnato arbitrariamente (tra 0 e 1)\n",
    "\n",
    "l = 0.01  # Learning rate\n",
    "losses = []  # Lista per memorizzare le perdite\n",
    "batch_size = len(lunghezza_brano)\n",
    "num_epochs = 1000\n",
    "\n",
    "for i in range(num_epochs):\n",
    "    loss = 0\n",
    "    deltaw1 = 0\n",
    "    deltab = 0\n",
    "\n",
    "    for j in range(batch_size):\n",
    "        x = lunghezza_brano[j]\n",
    "        target = scrivilo[j]\n",
    "        out = w1 * x + b\n",
    "       \n",
    "        error = target - out\n",
    "        loss += error ** 2  # Calcolo della perdita\n",
    "        deltaw1 += 2* error * x #derivata per calcolare quanto questo parametro di sposta\n",
    "        deltab += error * l\n",
    "\n",
    "    w1 += deltaw1 / batch_size  # Aggiornamento dei pesi /Gradiente della MSE per w1\n",
    "    b += deltab / batch_size  # Aggiornamento del bias /Gradiente della MSE per b\n",
    "    losses.append(loss / batch_size)  # Aggiunta della perdita media alla lista\n",
    "\n",
    "scatter_plot_approx(lunghezza_brano, scrivilo, w1, b)"
   ]
  },
  {
   "cell_type": "markdown",
   "id": "02b207dc",
   "metadata": {},
   "source": [
    "troviamo la soglia e uso la funzione obiettivo"
   ]
  },
  {
   "cell_type": "code",
   "execution_count": null,
   "id": "46473886",
   "metadata": {},
   "outputs": [],
   "source": [
    "z= w1 * 4 + b\n",
    "prediction = scrivilo if z >= 0.5 else \"non scrivilo\"\n",
    "print(f\"Predizione per 4: {prediction}\")"
   ]
  },
  {
   "cell_type": "markdown",
   "id": "265d7b58",
   "metadata": {},
   "source": [
    "cross entropy: evoluzione (MSE non è adatto per classificazione)\n",
    "MA come si fa a capire la soglia giusta ogni volta?\n",
    "Se ti do dentro queste info, dimmi con quale probabilità la solgia è quella predetta\n",
    "\n",
    "\n",
    "questa funzione è una funzione di attivazione chiamata sigmoid \n",
    "\n",
    "questa funzione massimizza o minimizza la percentuale"
   ]
  },
  {
   "cell_type": "code",
   "execution_count": null,
   "id": "0bdaf2b5",
   "metadata": {},
   "outputs": [],
   "source": [
    "w1 = 0.25\n",
    "b = 0\n",
    "# Learning rate assegnato arbitrariamente (tra 0 e 1)\n",
    "lr = 0.01  # Learning rate\n",
    "epochs = 1000  # Numero di epoche\n",
    "loss_history = []  # Lista per memorizzare le perdite\n",
    "\n",
    "#training\n",
    "for epoch in range(epochs):\n",
    "    grad_w1 = 0\n",
    "    grad_b = 0\n",
    "    loss = 0\n",
    "\n",
    "    for x_i, y_i in zip(lunghezza_brano, scrivilo):\n",
    "        #forward pass\n",
    "        z = w1 * x_i + b"
   ]
  },
  {
   "cell_type": "markdown",
   "id": "e4885776",
   "metadata": {},
   "source": [
    "la retta è più vicina al risultato vero, e la loss funcition "
   ]
  },
  {
   "cell_type": "code",
   "execution_count": null,
   "id": "86e17191",
   "metadata": {},
   "outputs": [],
   "source": [
    "print(\"probilità predette\")"
   ]
  },
  {
   "cell_type": "markdown",
   "id": "27b7b7f1",
   "metadata": {},
   "source": [
    "esempio di regressione"
   ]
  },
  {
   "cell_type": "code",
   "execution_count": null,
   "id": "4d4e61ce",
   "metadata": {},
   "outputs": [],
   "source": [
    "lunghezza_brano = np.array([1, 2, 3, 4, 5, 6, 7, 8, 9, 10])\n",
    "biglietti_venduti = np "
   ]
  },
  {
   "cell_type": "markdown",
   "id": "bc11e4d5",
   "metadata": {},
   "source": [
    "Introduzione a Forward e back propagation"
   ]
  }
 ],
 "metadata": {
  "kernelspec": {
   "display_name": "tensorflow_essentia",
   "language": "python",
   "name": "python3"
  },
  "language_info": {
   "codemirror_mode": {
    "name": "ipython",
    "version": 3
   },
   "file_extension": ".py",
   "mimetype": "text/x-python",
   "name": "python",
   "nbconvert_exporter": "python",
   "pygments_lexer": "ipython3",
   "version": "3.12.1"
  }
 },
 "nbformat": 4,
 "nbformat_minor": 5
}
