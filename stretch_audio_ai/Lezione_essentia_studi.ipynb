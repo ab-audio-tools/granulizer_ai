{
 "cells": [
  {
   "cell_type": "markdown",
   "metadata": {},
   "source": [
    "# Studi Essentia: Introduzione all'elaborazione audio in Python\n",
    "\n",
    "Questo notebook introduce i fondamenti della libreria Essentia per l'elaborazione audio in Python. Essentia è una libreria open-source sviluppata dal Music Technology Group dell'Universitat Pompeu Fabra, specializzata nell'analisi di segnali audio con un focus sulla musica.\n",
    "\n",
    "## Panoramica\n",
    "In questo notebook esploreremo:\n",
    "- Come caricare e visualizzare file audio\n",
    "- Come analizzare l'ampiezza di un segnale audio\n",
    "- Come utilizzare algoritmi di inviluppo (envelope) per analizzare l'evoluzione dell'ampiezza nel tempo\n",
    "- Come creare visualizzazioni interattive dei risultati\n",
    "\n",
    "Iniziamo con l'installazione delle librerie necessarie."
   ]
  },
  {
   "cell_type": "code",
   "execution_count": 33,
   "metadata": {},
   "outputs": [
    {
     "name": "stdout",
     "output_type": "stream",
     "text": [
      "Requirement already satisfied: nbformat in ./stretch_venv/lib/python3.12/site-packages (5.10.4)\n",
      "Requirement already satisfied: fastjsonschema>=2.15 in ./stretch_venv/lib/python3.12/site-packages (from nbformat) (2.21.1)\n",
      "Requirement already satisfied: jsonschema>=2.6 in ./stretch_venv/lib/python3.12/site-packages (from nbformat) (4.24.0)\n",
      "Requirement already satisfied: jupyter-core!=5.0.*,>=4.12 in ./stretch_venv/lib/python3.12/site-packages (from nbformat) (5.8.1)\n",
      "Requirement already satisfied: traitlets>=5.1 in ./stretch_venv/lib/python3.12/site-packages (from nbformat) (5.14.3)\n",
      "Requirement already satisfied: attrs>=22.2.0 in ./stretch_venv/lib/python3.12/site-packages (from jsonschema>=2.6->nbformat) (25.3.0)\n",
      "Requirement already satisfied: jsonschema-specifications>=2023.03.6 in ./stretch_venv/lib/python3.12/site-packages (from jsonschema>=2.6->nbformat) (2025.4.1)\n",
      "Requirement already satisfied: referencing>=0.28.4 in ./stretch_venv/lib/python3.12/site-packages (from jsonschema>=2.6->nbformat) (0.36.2)\n",
      "Requirement already satisfied: rpds-py>=0.7.1 in ./stretch_venv/lib/python3.12/site-packages (from jsonschema>=2.6->nbformat) (0.25.1)\n",
      "Requirement already satisfied: platformdirs>=2.5 in ./stretch_venv/lib/python3.12/site-packages (from jupyter-core!=5.0.*,>=4.12->nbformat) (4.3.8)\n",
      "Requirement already satisfied: typing-extensions>=4.4.0 in ./stretch_venv/lib/python3.12/site-packages (from referencing>=0.28.4->jsonschema>=2.6->nbformat) (4.14.0)\n"
     ]
    }
   ],
   "source": [
    "# Installazione delle librerie necessarie\n",
    "# Esegui questa cella solo se le librerie non sono già installate\n",
    "\n",
    "'''\n",
    "%pip install --upgrade pip\n",
    "%pip install plotly\n",
    "%pip install nbformat\n",
    "%pip install ipywidgets\n",
    "'''\n",
    "!pip install nbformat\n"
   ]
  },
  {
   "cell_type": "code",
   "execution_count": 36,
   "metadata": {},
   "outputs": [
    {
     "name": "stdout",
     "output_type": "stream",
     "text": [
      "5.10.4\n"
     ]
    }
   ],
   "source": [
    "import nbformat\n",
    "print(nbformat.__version__)"
   ]
  },
  {
   "cell_type": "markdown",
   "metadata": {},
   "source": [
    "## 1. Importazione dei moduli necessari\n",
    "\n",
    "Prima di iniziare, importiamo i moduli necessari per il nostro lavoro."
   ]
  },
  {
   "cell_type": "code",
   "execution_count": null,
   "metadata": {},
   "outputs": [],
   "source": [
    "# Importazione dei moduli principali\n",
    "import essentia\n",
    "import essentia.standard as es  # Modulo standard di Essentia\n",
    "import numpy as np              # Per la manipolazione degli array\n",
    "import plotly.graph_objects as go # Per visualizzazioni interattive\n",
    "from plotly.subplots import make_subplots\n",
    "import nbformat"
   ]
  },
  {
   "cell_type": "markdown",
   "metadata": {},
   "source": [
    "## 2. Esplorazione della libreria Essentia\n",
    "\n",
    "Essentia contiene un'ampia varietà di algoritmi per l'analisi audio. Possiamo esplorare cosa offre utilizzando la funzione `dir()`."
   ]
  },
  {
   "cell_type": "code",
   "execution_count": 15,
   "metadata": {},
   "outputs": [
    {
     "name": "stdout",
     "output_type": "stream",
     "text": [
      "['AfterMaxToBeforeMaxEnergyRatio', 'AllPass', 'Audio2Midi', 'Audio2Pitch', 'AudioLoader', 'AudioOnsetsMarker', 'AudioWriter', 'AutoCorrelation', 'BFCC', 'BPF', 'BandPass', 'BandReject', 'BarkBands', 'BeatTrackerDegara', 'BeatTrackerMultiFeature', 'Beatogram', 'BeatsLoudness', 'BinaryOperator', 'BinaryOperatorStream', 'BpmHistogram', 'BpmHistogramDescriptors', 'BpmRubato', 'CartesianToPolar', 'CentralMoments', 'Centroid', 'ChordsDescriptors', 'ChordsDetection', 'ChordsDetectionBeats', 'ChromaCrossSimilarity', 'Chromagram', 'ClickDetector', 'Clipper', 'ConstantQ', 'CoverSongSimilarity', 'Crest', 'CrossCorrelation', 'CrossSimilarityMatrix', 'CubicSpline', 'DCRemoval', 'DCT', 'Danceability', 'Decrease', 'Derivative', 'DerivativeSFX', 'DiscontinuityDetector', 'Dissonance', 'DistributionShape', 'Duration', 'DynamicComplexity', 'ERBBands', 'EasyLoader', 'EffectiveDuration', 'Energy', 'EnergyBand', 'EnergyBandRatio', 'Entropy', 'Envelope', 'EqloudLoader', 'EqualLoudness', 'Extractor', 'FFT', 'FFTC', 'FadeDetection', 'FalseStereoDetector', 'Flatness', 'FlatnessDB', 'FlatnessSFX', 'Flux', 'FrameBuffer', 'FrameCutter', 'FrameGenerator', 'FrameToReal', 'FreesoundExtractor', 'FrequencyBands', 'GFCC', 'GapsDetector', 'GeometricMean', 'HFC', 'HPCP', 'HarmonicBpm', 'HarmonicMask', 'HarmonicModelAnal', 'HarmonicPeaks', 'HighPass', 'HighResolutionFeatures', 'Histogram', 'HprModelAnal', 'HpsModelAnal', 'HumDetector', 'IDCT', 'IFFT', 'IFFTC', 'IIR', 'Inharmonicity', 'InstantPower', 'Intensity', 'Key', 'KeyExtractor', 'LPC', 'Larm', 'Leq', 'LevelExtractor', 'LogAttackTime', 'LogSpectrum', 'LoopBpmConfidence', 'LoopBpmEstimator', 'Loudness', 'LoudnessEBUR128', 'LoudnessVickers', 'LowLevelSpectralEqloudExtractor', 'LowLevelSpectralExtractor', 'LowPass', 'MFCC', 'Magnitude', 'MaxFilter', 'MaxMagFreq', 'MaxToTotal', 'Mean', 'Median', 'MedianFilter', 'MelBands', 'MetadataReader', 'Meter', 'MinMax', 'MinToTotal', 'MonoLoader', 'MonoMixer', 'MonoWriter', 'MovingAverage', 'MultiPitchKlapuri', 'MultiPitchMelodia', 'Multiplexer', 'MusicExtractor', 'NNLSChroma', 'NSGConstantQ', 'NSGIConstantQ', 'NoiseAdder', 'NoiseBurstDetector', 'NoveltyCurve', 'NoveltyCurveFixedBpmEstimator', 'OddToEvenHarmonicEnergyRatio', 'OnsetDetection', 'OnsetDetectionGlobal', 'OnsetRate', 'Onsets', 'OverlapAdd', 'PCA', 'Panning', 'PeakDetection', 'PercivalBpmEstimator', 'PercivalEnhanceHarmonics', 'PercivalEvaluatePulseTrains', 'Pitch2Midi', 'PitchContourSegmentation', 'PitchContours', 'PitchContoursMelody', 'PitchContoursMonoMelody', 'PitchContoursMultiMelody', 'PitchFilter', 'PitchMelodia', 'PitchSalience', 'PitchSalienceFunction', 'PitchSalienceFunctionPeaks', 'PitchYin', 'PitchYinFFT', 'PitchYinProbabilistic', 'PitchYinProbabilities', 'PitchYinProbabilitiesHMM', 'PolarToCartesian', 'PoolAggregator', 'PowerMean', 'PowerSpectrum', 'PredominantPitchMelodia', 'RMS', 'RawMoments', 'ReplayGain', 'Resample', 'ResampleFFT', 'RhythmDescriptors', 'RhythmExtractor', 'RhythmExtractor2013', 'RhythmTransform', 'RollOff', 'SBic', 'SNR', 'SaturationDetector', 'Scale', 'SilenceRate', 'SineModelAnal', 'SineModelSynth', 'SineSubtraction', 'SingleBeatLoudness', 'SingleGaussian', 'Slicer', 'SpectralCentroidTime', 'SpectralComplexity', 'SpectralContrast', 'SpectralPeaks', 'SpectralWhitening', 'Spectrum', 'SpectrumCQ', 'SpectrumToCent', 'Spline', 'SprModelAnal', 'SprModelSynth', 'SpsModelAnal', 'SpsModelSynth', 'StartStopCut', 'StartStopSilence', 'StereoDemuxer', 'StereoMuxer', 'StereoTrimmer', 'StochasticModelAnal', 'StochasticModelSynth', 'StrongDecay', 'StrongPeak', 'SuperFluxExtractor', 'SuperFluxNovelty', 'SuperFluxPeaks', 'TCToTotal', 'TempoScaleBands', 'TempoTap', 'TempoTapDegara', 'TempoTapMaxAgreement', 'TempoTapTicks', 'TensorNormalize', 'TensorTranspose', 'TensorflowInputFSDSINet', 'TensorflowInputMusiCNN', 'TensorflowInputTempoCNN', 'TensorflowInputVGGish', 'TonalExtractor', 'TonicIndianArtMusic', 'TriangularBands', 'TriangularBarkBands', 'Trimmer', 'Tristimulus', 'TruePeakDetector', 'TuningFrequency', 'TuningFrequencyExtractor', 'UnaryOperator', 'UnaryOperatorStream', 'Variance', 'Vibrato', 'Viterbi', 'WarpedAutoCorrelation', 'Welch', 'Windowing', 'YamlInput', 'YamlOutput', 'ZeroCrossingRate', '__builtins__', '__cached__', '__doc__', '__file__', '__loader__', '__name__', '__package__', '__spec__', '_c', '_create_essentia_class', '_create_python_algorithms', '_essentia', '_reloadAlgorithms', '_sys', 'algorithmInfo', 'algorithmNames', 'copy', 'essentia', 'iteritems']\n"
     ]
    }
   ],
   "source": [
    "# Visualizziamo tutti gli algoritmi disponibili in essentia.standard\n",
    "print(dir(es))"
   ]
  },
  {
   "cell_type": "markdown",
   "metadata": {},
   "source": [
    "### Esplorazione di specifici algoritmi\n",
    "\n",
    "La libreria Essentia funziona accedendo ai singoli algoritmi presenti nel modulo `standard`. Per esempio, possiamo ottenere informazioni su un filtro passa-tutto (`AllPass`) o qualsiasi altro algoritmo."
   ]
  },
  {
   "cell_type": "code",
   "execution_count": 16,
   "metadata": {},
   "outputs": [
    {
     "data": {
      "text/plain": [
       "essentia.standard._create_essentia_class.<locals>.Algo"
      ]
     },
     "execution_count": 16,
     "metadata": {},
     "output_type": "execute_result"
    }
   ],
   "source": [
    "# Visualizziamo i dettagli dell'algoritmo AllPass\n",
    "es.AllPass"
   ]
  },
  {
   "cell_type": "markdown",
   "metadata": {},
   "source": [
    "Per ottenere informazioni dettagliate su un algoritmo specifico, possiamo utilizzare la funzione `help()`:"
   ]
  },
  {
   "cell_type": "code",
   "execution_count": 17,
   "metadata": {},
   "outputs": [
    {
     "name": "stdout",
     "output_type": "stream",
     "text": [
      "Help on class Algo in module essentia.standard:\n",
      "\n",
      "class Algo(Algorithm)\n",
      " |  Algo(**kwargs)\n",
      " |\n",
      " |  AllPass\n",
      " |\n",
      " |\n",
      " |  Inputs:\n",
      " |\n",
      " |    [vector_real] signal - the input signal\n",
      " |\n",
      " |\n",
      " |  Outputs:\n",
      " |\n",
      " |    [vector_real] signal - the filtered signal\n",
      " |\n",
      " |\n",
      " |  Parameters:\n",
      " |\n",
      " |    bandwidth:\n",
      " |      real ∈ (0,inf) (default = 500)\n",
      " |      the bandwidth of the filter [Hz] (used only for 2nd-order filters)\n",
      " |\n",
      " |    cutoffFrequency:\n",
      " |      real ∈ (0,inf) (default = 1500)\n",
      " |      the cutoff frequency for the filter [Hz]\n",
      " |\n",
      " |    order:\n",
      " |      integer ∈ {1,2} (default = 1)\n",
      " |      the order of the filter\n",
      " |\n",
      " |    sampleRate:\n",
      " |      real ∈ (0,inf) (default = 44100)\n",
      " |      the sampling rate of the audio signal [Hz]\n",
      " |\n",
      " |\n",
      " |  Description:\n",
      " |\n",
      " |    This algorithm implements a IIR all-pass filter of order 1 or 2. Because of\n",
      " |    its dependence on IIR, IIR's requirements are inherited.\n",
      " |\n",
      " |    References:\n",
      " |      [1] U. Zölzer, DAFX - Digital Audio Effects, p. 43,\n",
      " |      John Wiley & Sons, 2002\n",
      " |\n",
      " |  Method resolution order:\n",
      " |      Algo\n",
      " |      Algorithm\n",
      " |      builtins.object\n",
      " |\n",
      " |  Methods defined here:\n",
      " |\n",
      " |  __call__(self, *args)\n",
      " |\n",
      " |  __init__(self, **kwargs)\n",
      " |\n",
      " |  __str__(self)\n",
      " |\n",
      " |  compute(self, *args)\n",
      " |\n",
      " |  configure(self, **kwargs)\n",
      " |\n",
      " |  ----------------------------------------------------------------------\n",
      " |  Data descriptors defined here:\n",
      " |\n",
      " |  __dict__\n",
      " |      dictionary for instance variables\n",
      " |\n",
      " |  __weakref__\n",
      " |      list of weak references to the object\n",
      " |\n",
      " |  ----------------------------------------------------------------------\n",
      " |  Data and other attributes defined here:\n",
      " |\n",
      " |  __struct__ = {'category': 'Filters', 'description': 'This algorithm im...\n",
      " |\n",
      " |  ----------------------------------------------------------------------\n",
      " |  Methods inherited from Algorithm:\n",
      " |\n",
      " |  __compute__(...)\n",
      " |      compute the algorithm\n",
      " |\n",
      " |  __configure__(...)\n",
      " |      Configure the algorithm\n",
      " |\n",
      " |  getDoc(...)\n",
      " |      Returns the doc string for the algorithm\n",
      " |\n",
      " |  getStruct(...)\n",
      " |      Returns the doc struct for the algorithm\n",
      " |\n",
      " |  inputNames(...)\n",
      " |      Returns the names of the inputs of the algorithm.\n",
      " |\n",
      " |  inputType(...)\n",
      " |      Returns the type of the input given by its name\n",
      " |\n",
      " |  name(...)\n",
      " |      Returns the name of the algorithm.\n",
      " |\n",
      " |  outputNames(...)\n",
      " |      Returns the names of the outputs of the algorithm.\n",
      " |\n",
      " |  paramType(...)\n",
      " |      Returns the type of the parameter given by its name\n",
      " |\n",
      " |  paramValue(...)\n",
      " |      Returns the value of the parameter or None if not yet configured\n",
      " |\n",
      " |  parameterNames(...)\n",
      " |      Returns the names of the parameters for this algorithm.\n",
      " |\n",
      " |  reset(...)\n",
      " |      Reset the algorithm to its initial state (if any).\n",
      " |\n",
      " |  ----------------------------------------------------------------------\n",
      " |  Static methods inherited from Algorithm:\n",
      " |\n",
      " |  __new__(*args, **kwargs) from builtins.type\n",
      " |      Create and return a new object.  See help(type) for accurate signature.\n",
      "\n"
     ]
    }
   ],
   "source": [
    "# Visualizziamo la documentazione completa dell'algoritmo AllPass\n",
    "help(es.AllPass)"
   ]
  },
  {
   "cell_type": "markdown",
   "metadata": {},
   "source": [
    "## 3. Caricamento e visualizzazione di file audio\n",
    "\n",
    "Ora carichiamo un file audio di esempio chiamato \"0_01_9.wav\" utilizzando l'algoritmo `AudioLoader`."
   ]
  },
  {
   "cell_type": "code",
   "execution_count": 18,
   "metadata": {},
   "outputs": [],
   "source": [
    "# Inizializziamo l'oggetto AudioLoader specificando il file da caricare\n",
    "loader = es.AudioLoader(filename='dataset/originali/1.wav')\n",
    "\n",
    "# Eseguiamo l'algoritmo e otteniamo i risultati\n",
    "# Il metodo restituisce una tupla con diverse informazioni\n",
    "audio, sr, n_channel, md5, bitrate, codec = loader()"
   ]
  },
  {
   "cell_type": "markdown",
   "metadata": {},
   "source": [
    "### Analisi dei dati caricati\n",
    "\n",
    "L'algoritmo `AudioLoader` restituisce diverse informazioni sul file audio caricato:\n",
    "- `audio`: array contenente i campioni audio\n",
    "- `sr`: frequenza di campionamento (sample rate) in Hz\n",
    "- `n_channel`: numero di canali audio\n",
    "- `md5`: hash MD5 del file\n",
    "- `bitrate`: bit rate del file\n",
    "- `codec`: codec utilizzato per la codifica del file\n",
    "\n",
    "Verifichiamo la frequenza di campionamento:"
   ]
  },
  {
   "cell_type": "code",
   "execution_count": 19,
   "metadata": {},
   "outputs": [
    {
     "name": "stdout",
     "output_type": "stream",
     "text": [
      "Frequenza di campionamento: 48000.0 Hz\n",
      "MD5: (array([[-0.00164795,  0.        ],\n",
      "       [-0.00180054,  0.        ],\n",
      "       [-0.0017395 ,  0.        ],\n",
      "       ...,\n",
      "       [ 0.00079346,  0.        ],\n",
      "       [ 0.00091553,  0.        ],\n",
      "       [ 0.00094604,  0.        ]], dtype=float32), 48000.0, 1, '', 768000, 'pcm_s16le')\n"
     ]
    }
   ],
   "source": [
    "# Visualizziamo la frequenza di campionamento\n",
    "print(f\"Frequenza di campionamento: {sr} Hz\")\n",
    "print(f\"MD5: {loader()}\")"
   ]
  },
  {
   "cell_type": "markdown",
   "metadata": {},
   "source": [
    "### Gestione dei canali audio\n",
    "\n",
    "I dati audio vengono caricati in un formato interlacciato. Se il file è stereo, avremo due canali; se è mono, il secondo canale sarà costituito da zeri. Dobbiamo estrapolare correttamente i dati per lavorare con essi."
   ]
  },
  {
   "cell_type": "code",
   "execution_count": 20,
   "metadata": {},
   "outputs": [
    {
     "name": "stdout",
     "output_type": "stream",
     "text": [
      "Forma dell'array audio: (27905, 2)\n"
     ]
    },
    {
     "data": {
      "text/plain": [
       "array([[-0.00164795,  0.        ],\n",
       "       [-0.00180054,  0.        ],\n",
       "       [-0.0017395 ,  0.        ],\n",
       "       ...,\n",
       "       [ 0.00079346,  0.        ],\n",
       "       [ 0.00091553,  0.        ],\n",
       "       [ 0.00094604,  0.        ]], dtype=float32)"
      ]
     },
     "execution_count": 20,
     "metadata": {},
     "output_type": "execute_result"
    }
   ],
   "source": [
    "# Visualizziamo i dati audio grezzi\n",
    "print(\"Forma dell'array audio:\", audio.shape)\n",
    "audio"
   ]
  },
  {
   "cell_type": "code",
   "execution_count": 21,
   "metadata": {},
   "outputs": [
    {
     "name": "stdout",
     "output_type": "stream",
     "text": [
      "Forma dopo la trasposizione: (2, 27905)\n"
     ]
    }
   ],
   "source": [
    "# Trasponiamo la matrice per ottenere un array per ogni canale\n",
    "audio_T = audio.T\n",
    "print(\"Forma dopo la trasposizione:\", audio_T.shape)"
   ]
  },
  {
   "cell_type": "code",
   "execution_count": 22,
   "metadata": {},
   "outputs": [
    {
     "name": "stdout",
     "output_type": "stream",
     "text": [
      "Lunghezza del segnale audio: 27905\n"
     ]
    }
   ],
   "source": [
    "# Estraiamo il primo canale (per file mono è l'unico con dati significativi)\n",
    "audio = audio_T[0]\n",
    "print(\"Lunghezza del segnale audio:\", len(audio))"
   ]
  },
  {
   "cell_type": "markdown",
   "metadata": {},
   "source": [
    "### Ascolto del file audio\n",
    "\n",
    "Possiamo utilizzare `IPython.display.Audio` per ascoltare il file direttamente nel notebook."
   ]
  },
  {
   "cell_type": "code",
   "execution_count": 23,
   "metadata": {},
   "outputs": [
    {
     "data": {
      "text/html": [
       "\n",
       "                <audio  controls=\"controls\" >\n",
       "                    <source src=\"data:audio/x-wav;base64,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\" type=\"audio/x-wav\" />\n",
       "                    Your browser does not support the audio element.\n",
       "                </audio>\n",
       "              "
      ],
      "text/plain": [
       "<IPython.lib.display.Audio object>"
      ]
     },
     "execution_count": 23,
     "metadata": {},
     "output_type": "execute_result"
    }
   ],
   "source": [
    "import IPython.display\n",
    "IPython.display.Audio('./dataset/originali/1.wav', rate=sr)"
   ]
  },
  {
   "cell_type": "markdown",
   "metadata": {},
   "source": [
    "### Visualizzazione della forma d'onda\n",
    "\n",
    "Utilizziamo `plotly` per creare una visualizzazione interattiva della forma d'onda."
   ]
  },
  {
   "cell_type": "code",
   "execution_count": 24,
   "metadata": {},
   "outputs": [
    {
     "ename": "ValueError",
     "evalue": "Mime type rendering requires nbformat>=4.2.0 but it is not installed",
     "output_type": "error",
     "traceback": [
      "\u001b[31m---------------------------------------------------------------------------\u001b[39m",
      "\u001b[31mValueError\u001b[39m                                Traceback (most recent call last)",
      "\u001b[36mCell\u001b[39m\u001b[36m \u001b[39m\u001b[32mIn[24]\u001b[39m\u001b[32m, line 8\u001b[39m\n\u001b[32m      2\u001b[39m fig = go.Figure(data=go.Scatter(y=audio))\n\u001b[32m      3\u001b[39m fig.update_layout(\n\u001b[32m      4\u001b[39m     title=\u001b[33m\"\u001b[39m\u001b[33mForma d\u001b[39m\u001b[33m'\u001b[39m\u001b[33monda del file audio\u001b[39m\u001b[33m\"\u001b[39m,\n\u001b[32m      5\u001b[39m     xaxis_title=\u001b[33m\"\u001b[39m\u001b[33mCampioni\u001b[39m\u001b[33m\"\u001b[39m,\n\u001b[32m      6\u001b[39m     yaxis_title=\u001b[33m\"\u001b[39m\u001b[33mAmpiezza\u001b[39m\u001b[33m\"\u001b[39m\n\u001b[32m      7\u001b[39m )\n\u001b[32m----> \u001b[39m\u001b[32m8\u001b[39m \u001b[43mfig\u001b[49m\u001b[43m.\u001b[49m\u001b[43mshow\u001b[49m\u001b[43m(\u001b[49m\u001b[43m)\u001b[49m\n",
      "\u001b[36mFile \u001b[39m\u001b[32m~/Desktop/CONS/II_ANNO/Ambienti/stretch_audio_ai/stretch_venv/lib/python3.12/site-packages/plotly/basedatatypes.py:3436\u001b[39m, in \u001b[36mBaseFigure.show\u001b[39m\u001b[34m(self, *args, **kwargs)\u001b[39m\n\u001b[32m   3403\u001b[39m \u001b[38;5;250m\u001b[39m\u001b[33;03m\"\"\"\u001b[39;00m\n\u001b[32m   3404\u001b[39m \u001b[33;03mShow a figure using either the default renderer(s) or the renderer(s)\u001b[39;00m\n\u001b[32m   3405\u001b[39m \u001b[33;03mspecified by the renderer argument\u001b[39;00m\n\u001b[32m   (...)\u001b[39m\u001b[32m   3432\u001b[39m \u001b[33;03mNone\u001b[39;00m\n\u001b[32m   3433\u001b[39m \u001b[33;03m\"\"\"\u001b[39;00m\n\u001b[32m   3434\u001b[39m \u001b[38;5;28;01mimport\u001b[39;00m\u001b[38;5;250m \u001b[39m\u001b[34;01mplotly\u001b[39;00m\u001b[34;01m.\u001b[39;00m\u001b[34;01mio\u001b[39;00m\u001b[38;5;250m \u001b[39m\u001b[38;5;28;01mas\u001b[39;00m\u001b[38;5;250m \u001b[39m\u001b[34;01mpio\u001b[39;00m\n\u001b[32m-> \u001b[39m\u001b[32m3436\u001b[39m \u001b[38;5;28;01mreturn\u001b[39;00m \u001b[43mpio\u001b[49m\u001b[43m.\u001b[49m\u001b[43mshow\u001b[49m\u001b[43m(\u001b[49m\u001b[38;5;28;43mself\u001b[39;49m\u001b[43m,\u001b[49m\u001b[43m \u001b[49m\u001b[43m*\u001b[49m\u001b[43margs\u001b[49m\u001b[43m,\u001b[49m\u001b[43m \u001b[49m\u001b[43m*\u001b[49m\u001b[43m*\u001b[49m\u001b[43mkwargs\u001b[49m\u001b[43m)\u001b[49m\n",
      "\u001b[36mFile \u001b[39m\u001b[32m~/Desktop/CONS/II_ANNO/Ambienti/stretch_audio_ai/stretch_venv/lib/python3.12/site-packages/plotly/io/_renderers.py:425\u001b[39m, in \u001b[36mshow\u001b[39m\u001b[34m(fig, renderer, validate, **kwargs)\u001b[39m\n\u001b[32m    420\u001b[39m     \u001b[38;5;28;01mraise\u001b[39;00m \u001b[38;5;167;01mValueError\u001b[39;00m(\n\u001b[32m    421\u001b[39m         \u001b[33m\"\u001b[39m\u001b[33mMime type rendering requires ipython but it is not installed\u001b[39m\u001b[33m\"\u001b[39m\n\u001b[32m    422\u001b[39m     )\n\u001b[32m    424\u001b[39m \u001b[38;5;28;01mif\u001b[39;00m \u001b[38;5;129;01mnot\u001b[39;00m nbformat \u001b[38;5;129;01mor\u001b[39;00m Version(nbformat.__version__) < Version(\u001b[33m\"\u001b[39m\u001b[33m4.2.0\u001b[39m\u001b[33m\"\u001b[39m):\n\u001b[32m--> \u001b[39m\u001b[32m425\u001b[39m     \u001b[38;5;28;01mraise\u001b[39;00m \u001b[38;5;167;01mValueError\u001b[39;00m(\n\u001b[32m    426\u001b[39m         \u001b[33m\"\u001b[39m\u001b[33mMime type rendering requires nbformat>=4.2.0 but it is not installed\u001b[39m\u001b[33m\"\u001b[39m\n\u001b[32m    427\u001b[39m     )\n\u001b[32m    429\u001b[39m display_jupyter_version_warnings()\n\u001b[32m    431\u001b[39m ipython_display.display(bundle, raw=\u001b[38;5;28;01mTrue\u001b[39;00m)\n",
      "\u001b[31mValueError\u001b[39m: Mime type rendering requires nbformat>=4.2.0 but it is not installed"
     ]
    }
   ],
   "source": [
    "# Creazione di un grafico della forma d'onda\n",
    "fig = go.Figure(data=go.Scatter(y=audio))\n",
    "fig.update_layout(\n",
    "    title=\"Forma d'onda del file audio\",\n",
    "    xaxis_title=\"Campioni\",\n",
    "    yaxis_title=\"Ampiezza\"\n",
    ")\n",
    "fig.show()"
   ]
  },
  {
   "cell_type": "markdown",
   "metadata": {},
   "source": [
    "## 4. Analisi dell'ampiezza\n",
    "\n",
    "### Calcolo dell'inviluppo del segnale\n",
    "\n",
    "L'inviluppo (envelope) è una rappresentazione dell'evoluzione dell'ampiezza di un segnale nel tempo. L'algoritmo `Envelope` di Essentia implementa un rilevatore di inviluppo basato su rettificazione e filtro passa-basso.\n",
    "\n",
    "Parametri importanti dell'algoritmo `Envelope`:\n",
    "- `attackTime`: tempo di attacco in millisecondi\n",
    "- `releaseTime`: tempo di rilascio in millisecondi\n",
    "- `sampleRate`: frequenza di campionamento del segnale"
   ]
  },
  {
   "cell_type": "code",
   "execution_count": null,
   "metadata": {},
   "outputs": [],
   "source": [
    "# Calcoliamo l'inviluppo del segnale\n",
    "env_op = es.Envelope(sampleRate=sr, releaseTime=10)  # Inizializziamo l'algoritmo\n",
    "env = env_op(audio)                  # Applichiamo l'algoritmo al nostro segnale\n",
    "\n",
    "print(f\"Lunghezza dell'inviluppo: {len(env)} campioni\")"
   ]
  },
  {
   "cell_type": "markdown",
   "metadata": {},
   "source": [
    "### Visualizzazione dell'inviluppo\n",
    "\n",
    "Visualizziamo l'inviluppo sovrapposto alla forma d'onda per capire come rappresenta l'evoluzione dell'ampiezza."
   ]
  },
  {
   "cell_type": "code",
   "execution_count": null,
   "metadata": {},
   "outputs": [],
   "source": [
    "# Creiamo un grafico con forma d'onda e inviluppo\n",
    "fig = go.Figure()\n",
    "fig.add_trace(go.Scatter(y=audio, name=\"Forma d'onda\"))\n",
    "fig.add_trace(go.Scatter(y=env, name=\"Inviluppo\"))\n",
    "fig.update_layout(\n",
    "    title=\"Forma d'onda e inviluppo\",\n",
    "    xaxis_title=\"Campioni\",\n",
    "    yaxis_title=\"Ampiezza\"\n",
    ")\n",
    "fig.show()"
   ]
  },
  {
   "cell_type": "markdown",
   "metadata": {},
   "source": [
    "## 5. Widget interattivo per l'analisi dell'inviluppo\n",
    "\n",
    "Creiamo un widget interattivo che ci permetta di regolare il tempo di rilascio dell'algoritmo di inviluppo e vedere come questo parametro influenza il risultato."
   ]
  },
  {
   "cell_type": "code",
   "execution_count": null,
   "metadata": {},
   "outputs": [],
   "source": [
    "import ipywidgets as widgets\n",
    "\n",
    "def update_plot(rTime) -> None:\n",
    "    \"\"\"Funzione per aggiornare il grafico in base al tempo di rilascio selezionato\"\"\"\n",
    "    # Calcolo dell'inviluppo con il nuovo tempo di rilascio\n",
    "    env_op = es.Envelope(sampleRate=sr, releaseTime=rTime)\n",
    "    env = env_op(audio)\n",
    "\n",
    "    # Creazione del grafico aggiornato\n",
    "    fig = go.Figure()\n",
    "    fig.add_trace(go.Scatter(y=audio, name=\"Forma d'onda\"))\n",
    "    fig.add_trace(go.Scatter(y=env, name=\"Inviluppo\"))\n",
    "    fig.update_layout(\n",
    "        title=f\"Inviluppo con tempo di rilascio: {rTime} ms\",\n",
    "        xaxis_title=\"Campioni\",\n",
    "        yaxis_title=\"Ampiezza\"\n",
    "    )\n",
    "    \n",
    "    fig.show()\n",
    "\n",
    "# Creiamo uno slider per regolare il tempo di rilascio\n",
    "release_slider = widgets.FloatSlider(\n",
    "    min=1,\n",
    "    max=120,\n",
    "    value=10,\n",
    "    description=\"Tempo di rilascio (ms)\"\n",
    ")\n",
    "\n",
    "# Creiamo il widget interattivo\n",
    "widgets.interactive(update_plot,rTime=release_slider)"
   ]
  },
  {
   "cell_type": "markdown",
   "metadata": {},
   "source": [
    "## 6. Altri algoritmi di analisi dell'ampiezza\n",
    "\n",
    "Oltre all'inviluppo, Essentia offre altri algoritmi per l'analisi dell'ampiezza, come `RMS` (Root Mean Square) per calcolare l'energia del segnale."
   ]
  },
  {
   "cell_type": "code",
   "execution_count": null,
   "metadata": {},
   "outputs": [],
   "source": [
    "# Calcoliamo il valore RMS del segnale\n",
    "rms = es.RMS()\n",
    "rms_value = rms(audio)\n",
    "print(f\"Valore RMS del segnale: {rms_value}\")"
   ]
  },
  {
   "cell_type": "code",
   "execution_count": 26,
   "metadata": {},
   "outputs": [
    {
     "data": {
      "text/plain": [
       "279.05"
      ]
     },
     "execution_count": 26,
     "metadata": {},
     "output_type": "execute_result"
    }
   ],
   "source": [
    "# Calcoliamo il valore RMS in finestre di 100 campioni\n",
    "window= 100\n",
    "len(audio)/window\n"
   ]
  },
  {
   "cell_type": "markdown",
   "metadata": {},
   "source": [
    "simili sono round(), ceil(), floor()"
   ]
  },
  {
   "cell_type": "code",
   "execution_count": null,
   "metadata": {},
   "outputs": [],
   "source": [
    "a = [9,8,7,6,5,4,3,2,1]\n",
    "a[0]"
   ]
  },
  {
   "cell_type": "markdown",
   "metadata": {},
   "source": [
    "per leggere alcune porzioni di array invece"
   ]
  },
  {
   "cell_type": "code",
   "execution_count": null,
   "metadata": {},
   "outputs": [],
   "source": [
    "a = [9,8,7,6,5,4,3,2,1]\n",
    "print(a[2:]) #leggi da\n",
    "print(a[:-2]) #leggi fino a\n",
    "print(a[2:5]) #leggi da 2 a 5"
   ]
  },
  {
   "cell_type": "code",
   "execution_count": 27,
   "metadata": {},
   "outputs": [
    {
     "name": "stdout",
     "output_type": "stream",
     "text": [
      "100\n",
      "100\n",
      "100\n",
      "100\n",
      "100\n",
      "100\n",
      "100\n",
      "100\n",
      "100\n",
      "100\n",
      "100\n",
      "100\n",
      "100\n",
      "100\n",
      "100\n",
      "100\n",
      "100\n",
      "100\n",
      "100\n",
      "100\n",
      "100\n",
      "100\n",
      "100\n",
      "100\n",
      "100\n",
      "100\n",
      "100\n",
      "100\n",
      "100\n",
      "100\n",
      "100\n",
      "100\n",
      "100\n",
      "100\n",
      "100\n",
      "100\n",
      "100\n",
      "100\n",
      "100\n",
      "100\n",
      "100\n",
      "100\n",
      "100\n",
      "100\n",
      "100\n",
      "100\n",
      "100\n",
      "100\n",
      "100\n",
      "100\n",
      "100\n",
      "100\n",
      "100\n",
      "100\n",
      "100\n",
      "100\n",
      "100\n",
      "100\n",
      "100\n",
      "100\n",
      "100\n",
      "100\n",
      "100\n",
      "100\n",
      "100\n",
      "100\n",
      "100\n",
      "100\n",
      "100\n",
      "100\n",
      "100\n",
      "100\n",
      "100\n",
      "100\n",
      "100\n",
      "100\n",
      "100\n",
      "100\n",
      "100\n",
      "100\n",
      "100\n",
      "100\n",
      "100\n",
      "100\n",
      "100\n",
      "100\n",
      "100\n",
      "100\n",
      "100\n",
      "100\n",
      "100\n",
      "100\n",
      "100\n",
      "100\n",
      "100\n",
      "100\n",
      "100\n",
      "100\n",
      "100\n",
      "100\n",
      "100\n",
      "100\n",
      "100\n",
      "100\n",
      "100\n",
      "100\n",
      "100\n",
      "100\n",
      "100\n",
      "100\n",
      "100\n",
      "100\n",
      "100\n",
      "100\n",
      "100\n",
      "100\n",
      "100\n",
      "100\n",
      "100\n",
      "100\n",
      "100\n",
      "100\n",
      "100\n",
      "100\n",
      "100\n",
      "100\n",
      "100\n",
      "100\n",
      "100\n",
      "100\n",
      "100\n",
      "100\n",
      "100\n",
      "100\n",
      "100\n",
      "100\n",
      "100\n",
      "100\n",
      "100\n",
      "100\n",
      "100\n",
      "100\n",
      "100\n",
      "100\n",
      "100\n",
      "100\n",
      "100\n",
      "100\n",
      "100\n",
      "100\n",
      "100\n",
      "100\n",
      "100\n",
      "100\n",
      "100\n",
      "100\n",
      "100\n",
      "100\n",
      "100\n",
      "100\n",
      "100\n",
      "100\n",
      "100\n",
      "100\n",
      "100\n",
      "100\n",
      "100\n",
      "100\n",
      "100\n",
      "100\n",
      "100\n",
      "100\n",
      "100\n",
      "100\n",
      "100\n",
      "100\n",
      "100\n",
      "100\n",
      "100\n",
      "100\n",
      "100\n",
      "100\n",
      "100\n",
      "100\n",
      "100\n",
      "100\n",
      "100\n",
      "100\n",
      "100\n",
      "100\n",
      "100\n",
      "100\n",
      "100\n",
      "100\n",
      "100\n",
      "100\n",
      "100\n",
      "100\n",
      "100\n",
      "100\n",
      "100\n",
      "100\n",
      "100\n",
      "100\n",
      "100\n",
      "100\n",
      "100\n",
      "100\n",
      "100\n",
      "100\n",
      "100\n",
      "100\n",
      "100\n",
      "100\n",
      "100\n",
      "100\n",
      "100\n",
      "100\n",
      "100\n",
      "100\n",
      "100\n",
      "100\n",
      "100\n",
      "100\n",
      "100\n",
      "100\n",
      "100\n",
      "100\n",
      "100\n",
      "100\n",
      "100\n",
      "100\n",
      "100\n",
      "100\n",
      "100\n",
      "100\n",
      "100\n",
      "100\n",
      "100\n",
      "100\n",
      "100\n",
      "100\n",
      "100\n",
      "100\n",
      "100\n",
      "100\n",
      "100\n",
      "100\n",
      "100\n",
      "100\n",
      "100\n",
      "100\n",
      "100\n",
      "100\n",
      "100\n",
      "100\n",
      "100\n",
      "100\n",
      "100\n",
      "100\n",
      "100\n",
      "100\n",
      "100\n",
      "100\n",
      "100\n",
      "100\n",
      "100\n",
      "100\n",
      "100\n",
      "100\n",
      "100\n",
      "100\n",
      "100\n",
      "100\n",
      "100\n",
      "100\n",
      "100\n",
      "100\n",
      "100\n",
      "5\n"
     ]
    }
   ],
   "source": [
    "for i in range(0, len(audio), window):\n",
    "     # Calcoliamo il frame corrente\n",
    "    frame = audio[i:i+window]\n",
    "    print(len(frame))\n",
    "   "
   ]
  },
  {
   "cell_type": "code",
   "execution_count": 28,
   "metadata": {},
   "outputs": [
    {
     "name": "stdout",
     "output_type": "stream",
     "text": [
      "RMS del frame 0: 0.0017811210127547383\n",
      "RMS del frame 1: 0.0017493946943432093\n",
      "RMS del frame 2: 0.001826537656597793\n",
      "RMS del frame 3: 0.0016292185755446553\n",
      "RMS del frame 4: 0.0015298441285267472\n",
      "RMS del frame 5: 0.0013260545674711466\n",
      "RMS del frame 6: 0.0013246422167867422\n",
      "RMS del frame 7: 0.0010878563625738025\n",
      "RMS del frame 8: 0.0007828576490283012\n",
      "RMS del frame 9: 0.0004543841059785336\n",
      "RMS del frame 10: 0.0003704587579704821\n",
      "RMS del frame 11: 0.00020249970839358866\n",
      "RMS del frame 12: 0.00013448526442516595\n",
      "RMS del frame 13: 5.5437933042412624e-05\n",
      "RMS del frame 14: 6.979124009376392e-05\n",
      "RMS del frame 15: 0.00018424632435198873\n",
      "RMS del frame 16: 0.0003516414435580373\n",
      "RMS del frame 17: 0.00045801792293787\n",
      "RMS del frame 18: 0.000742004020139575\n",
      "RMS del frame 19: 0.0009997523156926036\n",
      "RMS del frame 20: 0.0011068671010434628\n",
      "RMS del frame 21: 0.001115378923714161\n",
      "RMS del frame 22: 0.0010367580689489841\n",
      "RMS del frame 23: 0.0010925207752734423\n",
      "RMS del frame 24: 0.0009336035000160336\n",
      "RMS del frame 25: 0.0009218278573825955\n",
      "RMS del frame 26: 0.000732072105165571\n",
      "RMS del frame 27: 0.0005044639692641795\n",
      "RMS del frame 28: 0.00019512166909407824\n",
      "RMS del frame 29: 0.00021233304869383574\n",
      "RMS del frame 30: 0.0005048791645094752\n",
      "RMS del frame 31: 0.0009314062772318721\n",
      "RMS del frame 32: 0.0013631625333800912\n",
      "RMS del frame 33: 0.0015000624116510153\n",
      "RMS del frame 34: 0.0015943733742460608\n",
      "RMS del frame 35: 0.0015633312286809087\n",
      "RMS del frame 36: 0.0015169262187555432\n",
      "RMS del frame 37: 0.0014410211006179452\n",
      "RMS del frame 38: 0.0013151979073882103\n",
      "RMS del frame 39: 0.0010353198740631342\n",
      "RMS del frame 40: 0.0008319217013195157\n",
      "RMS del frame 41: 0.0007830717950128019\n",
      "RMS del frame 42: 0.0007034417940303683\n",
      "RMS del frame 43: 0.0007053852896206081\n",
      "RMS del frame 44: 0.0008723384817130864\n",
      "RMS del frame 45: 0.0008308743708766997\n",
      "RMS del frame 46: 0.00081632100045681\n",
      "RMS del frame 47: 0.0009504204499535263\n",
      "RMS del frame 48: 0.0011603825259953737\n",
      "RMS del frame 49: 0.0017371714347973466\n",
      "RMS del frame 50: 0.0018982423935085535\n",
      "RMS del frame 51: 0.0016699446132406592\n",
      "RMS del frame 52: 0.0022291080094873905\n",
      "RMS del frame 53: 0.0018830507760867476\n",
      "RMS del frame 54: 0.0023202793672680855\n",
      "RMS del frame 55: 0.002869910094887018\n",
      "RMS del frame 56: 0.002506897784769535\n",
      "RMS del frame 57: 0.0024009402841329575\n",
      "RMS del frame 58: 0.0027251821011304855\n",
      "RMS del frame 59: 0.003263900289312005\n",
      "RMS del frame 60: 0.002808690071105957\n",
      "RMS del frame 61: 0.0028550787828862667\n",
      "RMS del frame 62: 0.0030889592599123716\n",
      "RMS del frame 63: 0.002951717237010598\n",
      "RMS del frame 64: 0.0023990056943148375\n",
      "RMS del frame 65: 0.0030905944295227528\n",
      "RMS del frame 66: 0.002651166170835495\n",
      "RMS del frame 67: 0.002740978030487895\n",
      "RMS del frame 68: 0.002748708939179778\n",
      "RMS del frame 69: 0.0030987306963652372\n",
      "RMS del frame 70: 0.0024408684112131596\n",
      "RMS del frame 71: 0.0030036382377147675\n",
      "RMS del frame 72: 0.0033088810741901398\n",
      "RMS del frame 73: 0.00345416646450758\n",
      "RMS del frame 74: 0.0036767793353646994\n",
      "RMS del frame 75: 0.0038695831317454576\n",
      "RMS del frame 76: 0.0044412072747945786\n",
      "RMS del frame 77: 0.003995264880359173\n",
      "RMS del frame 78: 0.004109424073249102\n",
      "RMS del frame 79: 0.0039015922229737043\n",
      "RMS del frame 80: 0.004293991252779961\n",
      "RMS del frame 81: 0.004741606768220663\n",
      "RMS del frame 82: 0.003992151934653521\n",
      "RMS del frame 83: 0.0037558325566351414\n",
      "RMS del frame 84: 0.0027561141178011894\n",
      "RMS del frame 85: 0.002648790366947651\n",
      "RMS del frame 86: 0.0034074061550199986\n",
      "RMS del frame 87: 0.0030247955583035946\n",
      "RMS del frame 88: 0.0030730534344911575\n",
      "RMS del frame 89: 0.0027050317730754614\n",
      "RMS del frame 90: 0.0031700918916612864\n",
      "RMS del frame 91: 0.002642441540956497\n",
      "RMS del frame 92: 0.002909018425270915\n",
      "RMS del frame 93: 0.0027570314705371857\n",
      "RMS del frame 94: 0.0029191893991082907\n",
      "RMS del frame 95: 0.002748800441622734\n",
      "RMS del frame 96: 0.0029909033328294754\n",
      "RMS del frame 97: 0.002142499200999737\n",
      "RMS del frame 98: 0.0020314897410571575\n",
      "RMS del frame 99: 0.0019106757827103138\n",
      "RMS del frame 100: 0.0017951859626919031\n",
      "RMS del frame 101: 0.008206721395254135\n",
      "RMS del frame 102: 0.011597421951591969\n",
      "RMS del frame 103: 0.012427804991602898\n",
      "RMS del frame 104: 0.008323721587657928\n",
      "RMS del frame 105: 0.006839456968009472\n",
      "RMS del frame 106: 0.006392323412001133\n",
      "RMS del frame 107: 0.01564544253051281\n",
      "RMS del frame 108: 0.014324733056128025\n",
      "RMS del frame 109: 0.01136153656989336\n",
      "RMS del frame 110: 0.011629750952124596\n",
      "RMS del frame 111: 0.011741796508431435\n",
      "RMS del frame 112: 0.015808235853910446\n",
      "RMS del frame 113: 0.01637572981417179\n",
      "RMS del frame 114: 0.011688700877130032\n",
      "RMS del frame 115: 0.005644693039357662\n",
      "RMS del frame 116: 0.007325935177505016\n",
      "RMS del frame 117: 0.01906663551926613\n",
      "RMS del frame 118: 0.0193826612085104\n",
      "RMS del frame 119: 0.014304722659289837\n",
      "RMS del frame 120: 0.005592977628111839\n",
      "RMS del frame 121: 0.00654173456132412\n",
      "RMS del frame 122: 0.017459677532315254\n",
      "RMS del frame 123: 0.022128120064735413\n",
      "RMS del frame 124: 0.017662247642874718\n",
      "RMS del frame 125: 0.007483255583792925\n",
      "RMS del frame 126: 0.0074335383251309395\n",
      "RMS del frame 127: 0.011220021173357964\n",
      "RMS del frame 128: 0.020354220643639565\n",
      "RMS del frame 129: 0.015655308961868286\n",
      "RMS del frame 130: 0.009984815493226051\n",
      "RMS del frame 131: 0.01649731770157814\n",
      "RMS del frame 132: 0.011103532277047634\n",
      "RMS del frame 133: 0.02319427765905857\n",
      "RMS del frame 134: 0.016671357676386833\n",
      "RMS del frame 135: 0.01811297982931137\n",
      "RMS del frame 136: 0.018054325133562088\n",
      "RMS del frame 137: 0.014771122485399246\n",
      "RMS del frame 138: 0.01630437560379505\n",
      "RMS del frame 139: 0.012401463463902473\n",
      "RMS del frame 140: 0.012958242557942867\n",
      "RMS del frame 141: 0.014136327430605888\n",
      "RMS del frame 142: 0.011484406888484955\n",
      "RMS del frame 143: 0.012670120224356651\n",
      "RMS del frame 144: 0.01186352875083685\n",
      "RMS del frame 145: 0.011522366665303707\n",
      "RMS del frame 146: 0.012553366832435131\n",
      "RMS del frame 147: 0.011732018552720547\n",
      "RMS del frame 148: 0.012895544059574604\n",
      "RMS del frame 149: 0.012678728438913822\n",
      "RMS del frame 150: 0.011335285380482674\n",
      "RMS del frame 151: 0.014810977503657341\n",
      "RMS del frame 152: 0.012487104162573814\n",
      "RMS del frame 153: 0.014481083489954472\n",
      "RMS del frame 154: 0.01595349796116352\n",
      "RMS del frame 155: 0.011980973184108734\n",
      "RMS del frame 156: 0.0067498646676540375\n",
      "RMS del frame 157: 0.022496454417705536\n",
      "RMS del frame 158: 0.014103889465332031\n",
      "RMS del frame 159: 0.007212267257273197\n",
      "RMS del frame 160: 0.015381776727735996\n",
      "RMS del frame 161: 0.01600601151585579\n",
      "RMS del frame 162: 0.009684852324426174\n",
      "RMS del frame 163: 0.007015077862888575\n",
      "RMS del frame 164: 0.013080681674182415\n",
      "RMS del frame 165: 0.008872877806425095\n",
      "RMS del frame 166: 0.007005379069596529\n",
      "RMS del frame 167: 0.003481227671727538\n",
      "RMS del frame 168: 0.016012610867619514\n",
      "RMS del frame 169: 0.010711248964071274\n",
      "RMS del frame 170: 0.0066055189818143845\n",
      "RMS del frame 171: 0.004382201936095953\n",
      "RMS del frame 172: 0.01490777637809515\n",
      "RMS del frame 173: 0.00950978510081768\n",
      "RMS del frame 174: 0.006364406086504459\n",
      "RMS del frame 175: 0.003989368677139282\n",
      "RMS del frame 176: 0.007488252595067024\n",
      "RMS del frame 177: 0.0035363209899514914\n",
      "RMS del frame 178: 0.004909980576485395\n",
      "RMS del frame 179: 0.006687347777187824\n",
      "RMS del frame 180: 0.009114599786698818\n",
      "RMS del frame 181: 0.005680425092577934\n",
      "RMS del frame 182: 0.005449948366731405\n",
      "RMS del frame 183: 0.004034883342683315\n",
      "RMS del frame 184: 0.009327679872512817\n",
      "RMS del frame 185: 0.0018352334154769778\n",
      "RMS del frame 186: 0.0038937332574278116\n",
      "RMS del frame 187: 0.014003018848598003\n",
      "RMS del frame 188: 0.00969730131328106\n",
      "RMS del frame 189: 0.008050158619880676\n",
      "RMS del frame 190: 0.003568127518519759\n",
      "RMS del frame 191: 0.004352971911430359\n",
      "RMS del frame 192: 0.01126850489526987\n",
      "RMS del frame 193: 0.007070935331285\n",
      "RMS del frame 194: 0.0044965907000005245\n",
      "RMS del frame 195: 0.011242068372666836\n",
      "RMS del frame 196: 0.0045846798457205296\n",
      "RMS del frame 197: 0.004442621488124132\n",
      "RMS del frame 198: 0.0029354547150433064\n",
      "RMS del frame 199: 0.011117706075310707\n",
      "RMS del frame 200: 0.006239519454538822\n",
      "RMS del frame 201: 0.005453717429190874\n",
      "RMS del frame 202: 0.0028437126893550158\n",
      "RMS del frame 203: 0.002228234661743045\n",
      "RMS del frame 204: 0.0053733536042273045\n",
      "RMS del frame 205: 0.005605405196547508\n",
      "RMS del frame 206: 0.0036388253793120384\n",
      "RMS del frame 207: 0.0066480860114097595\n",
      "RMS del frame 208: 0.004951243754476309\n",
      "RMS del frame 209: 0.005737021565437317\n",
      "RMS del frame 210: 0.003405768657103181\n",
      "RMS del frame 211: 0.009139152243733406\n",
      "RMS del frame 212: 0.005240070633590221\n",
      "RMS del frame 213: 0.0030490527860820293\n",
      "RMS del frame 214: 0.0025159018114209175\n",
      "RMS del frame 215: 0.0016785694751888514\n",
      "RMS del frame 216: 0.004951151553541422\n",
      "RMS del frame 217: 0.004691083915531635\n",
      "RMS del frame 218: 0.004033083561807871\n",
      "RMS del frame 219: 0.00717604486271739\n",
      "RMS del frame 220: 0.00521328067407012\n",
      "RMS del frame 221: 0.002135785762220621\n",
      "RMS del frame 222: 0.002034938894212246\n",
      "RMS del frame 223: 0.000864331959746778\n",
      "RMS del frame 224: 0.0009932146640494466\n",
      "RMS del frame 225: 0.0009481247398070991\n",
      "RMS del frame 226: 0.0018723199609667063\n",
      "RMS del frame 227: 0.0034946424420922995\n",
      "RMS del frame 228: 0.00315642636269331\n",
      "RMS del frame 229: 0.00371909630484879\n",
      "RMS del frame 230: 0.0030287953559309244\n",
      "RMS del frame 231: 0.0019869732204824686\n",
      "RMS del frame 232: 0.0011468438897281885\n",
      "RMS del frame 233: 0.000646526284981519\n",
      "RMS del frame 234: 0.0005064263241365552\n",
      "RMS del frame 235: 0.000550865544937551\n",
      "RMS del frame 236: 0.0006932597025297582\n",
      "RMS del frame 237: 0.0012738119112327695\n",
      "RMS del frame 238: 0.00046474975533783436\n",
      "RMS del frame 239: 0.0003671887388918549\n",
      "RMS del frame 240: 0.0009619961492717266\n",
      "RMS del frame 241: 0.0012757077347487211\n",
      "RMS del frame 242: 0.0011712589766830206\n",
      "RMS del frame 243: 0.0015115754213184118\n",
      "RMS del frame 244: 0.0017428288701921701\n",
      "RMS del frame 245: 0.0018860406707972288\n",
      "RMS del frame 246: 0.002256596926599741\n",
      "RMS del frame 247: 0.0020857620984315872\n",
      "RMS del frame 248: 0.0013510052813217044\n",
      "RMS del frame 249: 0.0020874759647995234\n",
      "RMS del frame 250: 0.0018378602107986808\n",
      "RMS del frame 251: 0.001252808840945363\n",
      "RMS del frame 252: 0.0014363829977810383\n",
      "RMS del frame 253: 0.0015753575135022402\n",
      "RMS del frame 254: 0.0008513255743309855\n",
      "RMS del frame 255: 0.00041500540100969374\n",
      "RMS del frame 256: 0.0004602997796609998\n",
      "RMS del frame 257: 0.0003298723022453487\n",
      "RMS del frame 258: 0.00013898068573325872\n",
      "RMS del frame 259: 0.00031444954220205545\n",
      "RMS del frame 260: 0.00024974122061394155\n",
      "RMS del frame 261: 0.00016804077313281596\n",
      "RMS del frame 262: 0.0005633366527035832\n",
      "RMS del frame 263: 0.0008188668871298432\n",
      "RMS del frame 264: 0.0005240944446995854\n",
      "RMS del frame 265: 0.0005859931115992367\n",
      "RMS del frame 266: 0.0007454914157278836\n",
      "RMS del frame 267: 0.0007756569539196789\n",
      "RMS del frame 268: 0.0006591090350411832\n",
      "RMS del frame 269: 0.0006811507046222687\n",
      "RMS del frame 270: 0.000944236759096384\n",
      "RMS del frame 271: 0.000775248627178371\n",
      "RMS del frame 272: 0.0005682828486897051\n",
      "RMS del frame 273: 0.0008570278878323734\n",
      "RMS del frame 274: 0.0008419920923188329\n",
      "RMS del frame 275: 0.0007948584388941526\n",
      "RMS del frame 276: 0.0009521582396700978\n",
      "RMS del frame 277: 0.0010234997607767582\n",
      "RMS del frame 278: 0.000993880326859653\n",
      "RMS del frame 279: 0.0008752747671678662\n",
      "280\n"
     ]
    }
   ],
   "source": [
    "rms_a = es.RMS()\n",
    "# Creoamo una lista per memorizzare i valori RMS\n",
    "rms = []\n",
    "for i in range(0, len(audio), window):\n",
    "    # Calcoliamo il valore RMS per il frame corrente\n",
    "    frame = audio[i:i+window]\n",
    "    rms_value = rms_a(frame)\n",
    "    # Aggiungiamo il valore RMS alla lista\n",
    "    rms.append(rms_value)\n",
    "    print(f\"RMS del frame {i//window}: {rms_value}\")\n",
    "print(len(rms))"
   ]
  },
  {
   "cell_type": "code",
   "execution_count": null,
   "metadata": {},
   "outputs": [],
   "source": [
    "fig = go.Figure()\n",
    "fig.add_trace(go.Scatter(y=audio, name=\"Forma d'onda\"))\n",
    "fig.add_trace(go.Scatter(y=rms, name=\"RMS\"))\n",
    "fig.show()"
   ]
  },
  {
   "cell_type": "markdown",
   "metadata": {},
   "source": [
    "lo veidmao per pochi campioni, quindi distribuiamo il grafico dell'rms con numpy"
   ]
  },
  {
   "cell_type": "code",
   "execution_count": null,
   "metadata": {},
   "outputs": [],
   "source": [
    "fig = go.Figure()\n",
    "# Creiamo un asse temporale per il grafico \n",
    "time = np.linspace(0, len(audio), len(rms))\n",
    "fig.add_trace(go.Scatter(y=audio, name=\"Forma d'onda\"))\n",
    "fig.add_trace(go.Scatter(x=time, y = rms, name=\"RMS\"))\n",
    "fig.show()"
   ]
  },
  {
   "cell_type": "markdown",
   "metadata": {},
   "source": [
    "con frame generator abbiamo il contenuto della finestra, spiegare poi cosa è Hop size con grafici e "
   ]
  },
  {
   "cell_type": "markdown",
   "metadata": {},
   "source": [
    "### Utilizzo di `FrameGenerator` per l'analisi a finestre\n",
    "\n",
    "Il codice sottostante utilizza l'algoritmo `FrameGenerator` di Essentia per suddividere il segnale audio in frame (finestre) di dimensione fissa. Questo approccio è utile per analizzare il segnale in segmenti temporali più piccoli, ad esempio per calcolare il valore RMS o altre caratteristiche su ogni frame.\n",
    "\n",
    "#### Parametri principali di `FrameGenerator`:\n",
    "- **`audio`**: il segnale audio da suddividere in frame.\n",
    "- **`frameSize`**: la dimensione di ogni frame in campioni. Ad esempio, con una frequenza di campionamento di 44100 Hz, un frame di 1024 campioni corrisponde a circa 23 ms.\n",
    "- **`hopSize`**: il numero di campioni di sovrapposizione tra un frame e il successivo. Un valore di 1 significa che i frame sono completamente sovrapposti, mentre un valore uguale a `frameSize` significa che i frame non si sovrappongono.\n",
    "- **`startFromZero`** (opzionale): se impostato su `True`, il primo frame inizia dal campione 0. Il valore predefinito è `False`.\n",
    "\n",
    "Il codice calcola il valore RMS per ogni frame generato e lo memorizza in una lista. Successivamente, viene creato un grafico che mostra la forma d'onda del segnale originale e i valori RMS calcolati per ogni frame."
   ]
  },
  {
   "cell_type": "code",
   "execution_count": null,
   "metadata": {},
   "outputs": [],
   "source": [
    "rms=[]\n",
    "# Creiamo un oggetto FrameGenerator\n",
    "for frame in es.FrameGenerator(audio, frameSize=1024, hopSize=1):\n",
    "    rms.append(rms_a(frame))\n",
    "\n",
    "fig = go.Figure()\n",
    "time = np.linspace(0, len(audio), len(rms))\n",
    "fig.add_trace(go.Scatter(y=audio, name=\"Forma d'onda\"))\n",
    "fig.add_trace(go.Scatter(x=time, y = rms, name=\"RMS\"))\n",
    "fig.show()\n"
   ]
  },
  {
   "cell_type": "markdown",
   "metadata": {},
   "source": [
    "STFT ora"
   ]
  },
  {
   "cell_type": "markdown",
   "metadata": {},
   "source": [
    "prendiamlo la funziona custom da utils/funzioni.py"
   ]
  },
  {
   "cell_type": "code",
   "execution_count": null,
   "metadata": {},
   "outputs": [],
   "source": [
    "from utils.funzioni import create_sine\n",
    "\n",
    "sinusoide = create_sine(300)\n",
    "fig = go.Figure()\n",
    "fig.add_trace(go.Scatter(y=sinusoide, name=\"Sinusoide\"))\n",
    "#window = 1024\n",
    "#spect = es.Spectrum()  # Initialize the Spectrum"
   ]
  },
  {
   "cell_type": "code",
   "execution_count": null,
   "metadata": {},
   "outputs": [],
   "source": [
    "from utils.funzioni import create_sine_es\n",
    "\n",
    "sinusoide = create_sine_es(9100, length=1024)\n",
    "fig = go.Figure()\n",
    "fig.add_trace(go.Scatter(y=sinusoide, name=\"Sinusoide\"))\n",
    "\n",
    "window = 1024\n",
    "spect = es.Spectrum(size = window)  # Initialize the Spectrum\n",
    "sin_spec = spect(sinusoide)\n",
    "\n",
    "fig = make_subplots(rows=2, cols=1)\n",
    "fig.add_trace(go.Scatter(y=sinusoide, name=\"Sinusoide\"), row=1, col=1)\n",
    "fig.add_trace(go.Scatter(y=sin_spec, name = \"Spettro\"), row=2, col=1)\n",
    "fig.show()\n"
   ]
  },
  {
   "cell_type": "markdown",
   "metadata": {},
   "source": [
    "### Dimensione della finestra e risoluzione spettrale\n",
    "\n",
    "Quando la dimensione della finestra (`window size`) è impostata a 64 campioni, questa scelta determina la risoluzione spettrale e temporale dell'analisi.\n",
    "\n",
    "#### Relazione tra tempo e frequenza\n",
    "Se sull'asse `x` rappresentiamo il tempo e sull'asse `y` la frequenza, la dimensione della finestra influenza direttamente la risoluzione in frequenza. La risoluzione spettrale è data dalla formula:\n",
    "\n",
    "$\\text{Risoluzione} = \\frac{\\text{Sample Rate}}{\\text{Window Size}}$\n",
    "\n",
    "Ad esempio, con una frequenza di campionamento ($ \\text{Sample Rate}$) di 44100 Hz e una finestra di 64 campioni:\n",
    "\n",
    "$\\text{Risoluzione} = \\frac{44100}{64} \\approx 689.06 \\, \\text{Hz}$\n",
    "\n",
    "Questo significa che ogni bin dello spettro rappresenta una banda di circa 689 Hz.\n",
    "\n",
    "#### Relazione tra bin e frequenza\n",
    "Se osserviamo un picco al bin \\( n \\), la frequenza corrispondente può essere calcolata moltiplicando il numero del bin per la risoluzione:\n",
    "\n",
    "$\\text{Frequenza} = n \\cdot \\text{Risoluzione}$\n",
    "\n",
    "Ad esempio, se il picco si trova al bin 5, la frequenza corrispondente sarà:\n",
    "\n",
    "$\\text{Frequenza} = 5 \\cdot 689.06 \\, \\text{Hz} \\approx 3445.3 \\, \\text{Hz}$\n",
    "\n",
    "#### Scelta della finestra e asse temporale\n",
    "Con una finestra di 64 campioni, possiamo decidere che l'asse temporale rappresenterà 400 campioni. Questo significa che ogni finestra coprirà una porzione specifica del segnale, influenzando la granularità dell'analisi temporale.\n",
    "\n",
    "In sintesi:\n",
    "- La dimensione della finestra determina la risoluzione in frequenza.\n",
    "- La relazione tra bin e frequenza è lineare e dipende dalla risoluzione.\n",
    "- La scelta della finestra influenza sia l'asse temporale che quello spettrale.\n"
   ]
  },
  {
   "cell_type": "code",
   "execution_count": null,
   "metadata": {},
   "outputs": [],
   "source": [
    "195*46"
   ]
  },
  {
   "cell_type": "markdown",
   "metadata": {},
   "source": [
    "### Relazione tra il picco spettrale e la risoluzione spettrale\n",
    "\n",
    "Nel codice precedente, abbiamo calcolato lo spettro di una sinusoide utilizzando una finestra di dimensione fissa. Analizziamo ora il valore del picco spettrale per verificare la relazione tra la frequenza del picco e la risoluzione spettrale. Questo ci aiuta a comprendere meglio come la dimensione della finestra influisce sulla precisione dell'analisi in frequenza.\n",
    "\n",
    "#### Formula per la risoluzione spettrale\n",
    "La risoluzione spettrale è definita come:\n",
    "\n",
    "''' math\n",
    "\\text{Risoluzione} = \\frac{\\text{Sample Rate}}{\\text{Window Size}}\n",
    "'''\n",
    "\n",
    "Dove:\n",
    "- **Sample Rate** è la frequenza di campionamento del segnale (in Hz).\n",
    "- **Window Size** è la dimensione della finestra (in campioni).\n",
    "\n",
    "#### Calcolo della frequenza del picco\n",
    "La frequenza corrispondente a un determinato bin \\( n \\) dello spettro può essere calcolata come:\n",
    "\n",
    "''' math\n",
    "\\text{Frequenza} = n \\cdot \\text{Risoluzione}\n",
    "'''\n",
    "\n",
    "#### Esempio pratico\n",
    "Supponiamo di avere:\n",
    "- **Sample Rate**: 44100 Hz\n",
    "- **Window Size**: 1024 campioni\n",
    "\n",
    "La risoluzione spettrale sarà:\n",
    "\n",
    "''' math\n",
    "\\text{Risoluzione} = \\frac{44100}{1024} \\approx 43.07 \\, \\text{Hz}\n",
    "'''\n",
    "\n",
    "Se il picco si trova al bin \\( n = 210 \\), la frequenza corrispondente sarà:\n",
    "\n",
    "''' math\n",
    "\\text{Frequenza} = 210 \\cdot 43.07 \\approx 9034.7 \\, \\text{Hz}\n",
    "'''\n",
    "\n",
    "#### Conclusione\n",
    "Questa analisi dimostra come la dimensione della finestra influisca sulla precisione dell'analisi spettrale. Finestra più grande → maggiore precisione in frequenza, ma minore risoluzione temporale."
   ]
  },
  {
   "cell_type": "code",
   "execution_count": null,
   "metadata": {},
   "outputs": [],
   "source": [
    "from utils.funzioni import create_sine_es\n",
    "# Creiamo una sinusoide a 9093.55 Hz\n",
    "sinusoide = create_sine_es(9093.55, length=1024)\n",
    "fig = go.Figure()\n",
    "fig.add_trace(go.Scatter(y=sinusoide, name=\"Sinusoide\"))\n",
    "\n",
    "window = 1024\n",
    "spect = es.Spectrum(size = window)  # Initialize the Spectrum\n",
    "sin_spec = spect(sinusoide)\n",
    "\n",
    "fig = make_subplots(rows=2, cols=1)\n",
    "fig.add_trace(go.Scatter(y=sinusoide, name=\"Sinusoide\"), row=1, col=1)\n",
    "fig.add_trace(go.Scatter(y=sin_spec, name = \"Spettro\"), row=2, col=1)\n",
    "fig.show()\n"
   ]
  },
  {
   "cell_type": "markdown",
   "metadata": {},
   "source": [
    "### Confronto tra il grafico precedente e il risultato attuale\n",
    "\n",
    "Nel grafico attuale, possiamo osservare che la rappresentazione è meno \"rumorosa\" e più approssimata rispetto al grafico precedente. Questo miglioramento è dovuto alla distribuzione dei dati su un asse temporale più uniforme, che riduce la densità visiva e rende il grafico più leggibile.\n",
    "\n",
    "#### Differenze principali:\n",
    "1. **Pulizia visiva**: Il grafico attuale elimina dettagli superflui, concentrandosi sugli aspetti principali del segnale.\n",
    "2. **Approssimazione**: La rappresentazione è più sintetica, ma mantiene le informazioni essenziali per l'analisi.\n",
    "3. **Distribuzione temporale**: L'asse temporale è stato ottimizzato per una migliore comprensione del segnale.\n",
    "\n",
    "Questo approccio è particolarmente utile quando si analizzano segnali complessi o di lunga durata, poiché consente di focalizzarsi sulle caratteristiche principali senza essere distratti da dettagli minori."
   ]
  },
  {
   "cell_type": "markdown",
   "metadata": {},
   "source": [
    "applicare un finestramento è facile con essentia"
   ]
  },
  {
   "cell_type": "code",
   "execution_count": null,
   "metadata": {},
   "outputs": [],
   "source": [
    "from utils.funzioni import create_sine_es\n",
    "# Creiamo una sinusoide a 9093.55 Hz\n",
    "sinusoide = create_sine_es(9093.55, length=1024)\n",
    "fig = go.Figure()\n",
    "fig.add_trace(go.Scatter(y=sinusoide, name=\"Sinusoide\"))\n",
    "\n",
    "window = 1024\n",
    "# funzioned di windowing\n",
    "w = es.Windowing()\n",
    "\n",
    "spect = es.Spectrum(size = window)  # Initialize the Spectrum\n",
    "sin_spec = spect(w(sinusoide))\n",
    "\n",
    "fig = make_subplots(rows=2, cols=1)\n",
    "fig.add_trace(go.Scatter(y=sinusoide, name=\"Sinusoide\"), row=1, col=1)\n",
    "fig.add_trace(go.Scatter(y=sin_spec, name = \"Spettro\"), row=2, col=1)\n",
    "fig.show()\n"
   ]
  },
  {
   "cell_type": "markdown",
   "metadata": {},
   "source": [
    "Applichiamo questa FFt al nostro audio"
   ]
  },
  {
   "cell_type": "code",
   "execution_count": null,
   "metadata": {},
   "outputs": [],
   "source": [
    "window = 1024\n",
    "sig = audio[15000:15000+window]\n",
    "# funzioned di windowing\n",
    "w = es.Windowing()\n",
    "\n",
    "spect = es.Spectrum(size = window)  # Initialize the Spectrum\n",
    "sin_spec = spect(w(sig))\n",
    "\n",
    "fig = make_subplots(rows=2, cols=1)\n",
    "fig.add_trace(go.Scatter(y=audio, name=\"audio\"), row=1, col=1)\n",
    "fig.add_trace(go.Scatter(y=sin_spec, name = \"Spettro\"), row=2, col=1)\n",
    "fig.show()\n"
   ]
  },
  {
   "cell_type": "markdown",
   "metadata": {},
   "source": [
    "sentiamo l'audio finestrato, loopandolo con np perchè troppo breve senza"
   ]
  },
  {
   "cell_type": "code",
   "execution_count": null,
   "metadata": {},
   "outputs": [],
   "source": [
    "IPython.display.Audio(np.tile(sig,10000), rate=sr)"
   ]
  },
  {
   "cell_type": "markdown",
   "metadata": {},
   "source": [
    "Creo uno spettro"
   ]
  },
  {
   "cell_type": "code",
   "execution_count": 30,
   "metadata": {},
   "outputs": [
    {
     "ename": "ValueError",
     "evalue": "Mime type rendering requires nbformat>=4.2.0 but it is not installed",
     "output_type": "error",
     "traceback": [
      "\u001b[31m---------------------------------------------------------------------------\u001b[39m",
      "\u001b[31mValueError\u001b[39m                                Traceback (most recent call last)",
      "\u001b[36mCell\u001b[39m\u001b[36m \u001b[39m\u001b[32mIn[30]\u001b[39m\u001b[32m, line 16\u001b[39m\n\u001b[32m     14\u001b[39m fig.add_trace(go.Scatter(y=audio, name=\u001b[33m\"\u001b[39m\u001b[33maudio\u001b[39m\u001b[33m\"\u001b[39m), row=\u001b[32m1\u001b[39m, col=\u001b[32m1\u001b[39m)\n\u001b[32m     15\u001b[39m fig.add_trace(go.Scatter(y=spect_arr, name = \u001b[33m\"\u001b[39m\u001b[33mSpettro\u001b[39m\u001b[33m\"\u001b[39m), row=\u001b[32m2\u001b[39m, col=\u001b[32m1\u001b[39m)\n\u001b[32m---> \u001b[39m\u001b[32m16\u001b[39m \u001b[43mfig\u001b[49m\u001b[43m.\u001b[49m\u001b[43mshow\u001b[49m\u001b[43m(\u001b[49m\u001b[43m)\u001b[49m\n",
      "\u001b[36mFile \u001b[39m\u001b[32m~/Desktop/CONS/II_ANNO/Ambienti/stretch_audio_ai/stretch_venv/lib/python3.12/site-packages/plotly/basedatatypes.py:3436\u001b[39m, in \u001b[36mBaseFigure.show\u001b[39m\u001b[34m(self, *args, **kwargs)\u001b[39m\n\u001b[32m   3403\u001b[39m \u001b[38;5;250m\u001b[39m\u001b[33;03m\"\"\"\u001b[39;00m\n\u001b[32m   3404\u001b[39m \u001b[33;03mShow a figure using either the default renderer(s) or the renderer(s)\u001b[39;00m\n\u001b[32m   3405\u001b[39m \u001b[33;03mspecified by the renderer argument\u001b[39;00m\n\u001b[32m   (...)\u001b[39m\u001b[32m   3432\u001b[39m \u001b[33;03mNone\u001b[39;00m\n\u001b[32m   3433\u001b[39m \u001b[33;03m\"\"\"\u001b[39;00m\n\u001b[32m   3434\u001b[39m \u001b[38;5;28;01mimport\u001b[39;00m\u001b[38;5;250m \u001b[39m\u001b[34;01mplotly\u001b[39;00m\u001b[34;01m.\u001b[39;00m\u001b[34;01mio\u001b[39;00m\u001b[38;5;250m \u001b[39m\u001b[38;5;28;01mas\u001b[39;00m\u001b[38;5;250m \u001b[39m\u001b[34;01mpio\u001b[39;00m\n\u001b[32m-> \u001b[39m\u001b[32m3436\u001b[39m \u001b[38;5;28;01mreturn\u001b[39;00m \u001b[43mpio\u001b[49m\u001b[43m.\u001b[49m\u001b[43mshow\u001b[49m\u001b[43m(\u001b[49m\u001b[38;5;28;43mself\u001b[39;49m\u001b[43m,\u001b[49m\u001b[43m \u001b[49m\u001b[43m*\u001b[49m\u001b[43margs\u001b[49m\u001b[43m,\u001b[49m\u001b[43m \u001b[49m\u001b[43m*\u001b[49m\u001b[43m*\u001b[49m\u001b[43mkwargs\u001b[49m\u001b[43m)\u001b[49m\n",
      "\u001b[36mFile \u001b[39m\u001b[32m~/Desktop/CONS/II_ANNO/Ambienti/stretch_audio_ai/stretch_venv/lib/python3.12/site-packages/plotly/io/_renderers.py:425\u001b[39m, in \u001b[36mshow\u001b[39m\u001b[34m(fig, renderer, validate, **kwargs)\u001b[39m\n\u001b[32m    420\u001b[39m     \u001b[38;5;28;01mraise\u001b[39;00m \u001b[38;5;167;01mValueError\u001b[39;00m(\n\u001b[32m    421\u001b[39m         \u001b[33m\"\u001b[39m\u001b[33mMime type rendering requires ipython but it is not installed\u001b[39m\u001b[33m\"\u001b[39m\n\u001b[32m    422\u001b[39m     )\n\u001b[32m    424\u001b[39m \u001b[38;5;28;01mif\u001b[39;00m \u001b[38;5;129;01mnot\u001b[39;00m nbformat \u001b[38;5;129;01mor\u001b[39;00m Version(nbformat.__version__) < Version(\u001b[33m\"\u001b[39m\u001b[33m4.2.0\u001b[39m\u001b[33m\"\u001b[39m):\n\u001b[32m--> \u001b[39m\u001b[32m425\u001b[39m     \u001b[38;5;28;01mraise\u001b[39;00m \u001b[38;5;167;01mValueError\u001b[39;00m(\n\u001b[32m    426\u001b[39m         \u001b[33m\"\u001b[39m\u001b[33mMime type rendering requires nbformat>=4.2.0 but it is not installed\u001b[39m\u001b[33m\"\u001b[39m\n\u001b[32m    427\u001b[39m     )\n\u001b[32m    429\u001b[39m display_jupyter_version_warnings()\n\u001b[32m    431\u001b[39m ipython_display.display(bundle, raw=\u001b[38;5;28;01mTrue\u001b[39;00m)\n",
      "\u001b[31mValueError\u001b[39m: Mime type rendering requires nbformat>=4.2.0 but it is not installed"
     ]
    }
   ],
   "source": [
    "window = 1024\n",
    "sig = audio[15000:15000+window]\n",
    "# funzioned di windowing\n",
    "w = es.Windowing(zeroPhase=False)\n",
    "spect = es.Spectrum(size = window)  # Initialize the Spectrum\n",
    "spect_arr = []\n",
    "\n",
    "\n",
    "for frame in es.FrameGenerator(audio, frameSize=window, hopSize=512):\n",
    "    win_spec = spect(w(frame))\n",
    "    spect_arr.append(win_spec)\n",
    "\n",
    "fig = make_subplots(rows=2, cols=1)\n",
    "fig.add_trace(go.Scatter(y=audio, name=\"audio\"), row=1, col=1)\n",
    "fig.add_trace(go.Scatter(y=spect_arr, name = \"Spettro\"), row=2, col=1)\n",
    "fig.show()"
   ]
  },
  {
   "cell_type": "markdown",
   "metadata": {},
   "source": [
    "### MFCC (Mel-Frequency Cepstral Coefficients)\n",
    "\n",
    "I Mel-Frequency Cepstral Coefficients (MFCC) sono una rappresentazione compatta e percettivamente rilevante di un segnale audio, ampiamente utilizzata nell'elaborazione del parlato e nella classificazione audio. Gli MFCC sono ottenuti applicando una serie di trasformazioni al segnale audio, che includono:\n",
    "\n",
    "1. **Trasformata di Fourier**: Per ottenere lo spettro di frequenza del segnale.\n",
    "2. **Scala Mel**: Lo spettro viene mappato su una scala Mel, che approssima la percezione umana delle frequenze.\n",
    "3. **Logaritmo**: Si calcola il logaritmo dell'energia in ciascuna banda Mel.\n",
    "4. **Trasformata discreta del coseno (DCT)**: Per ottenere i coefficienti finali, che rappresentano le caratteristiche principali del segnale.\n",
    "\n",
    "#### Applicazioni\n",
    "Gli MFCC sono utilizzati in numerosi campi, tra cui:\n",
    "- Riconoscimento vocale\n",
    "- Classificazione musicale\n",
    "- Identificazione di suoni ambientali\n",
    "- Analisi delle emozioni nel parlato\n",
    "\n",
    "#### Risorse utili\n",
    "- [MFCC su Wikipedia](https://en.wikipedia.org/wiki/Mel-frequency_cepstrum)\n",
    "- [Documentazione ufficiale di Essentia](https://essentia.upf.edu/documentation/)\n",
    "- [Introduzione agli MFCC](https://haythamfayek.com/2016/04/21/speech-processing-for-machine-learning.html)"
   ]
  },
  {
   "cell_type": "markdown",
   "metadata": {},
   "source": [
    "### Spettro e bande Mel\n",
    "\n",
    "Lo spettro di un segnale audio rappresenta la distribuzione delle sue frequenze. Per analizzare lo spettro in modo più simile al funzionamento del sistema uditivo umano, si utilizzano le bande Mel.\n",
    "\n",
    "#### Bande Mel\n",
    "Le bande Mel sono una rappresentazione dello spettro che approssima la percezione umana delle frequenze. Invece di considerare ogni bin dello spettro FFT, si applicano delle finestre \"triangolari\" che raggruppano i bin in bande di frequenza. Questo processo riduce la risoluzione spettrale, ma rende l'analisi più rilevante dal punto di vista percettivo.\n",
    "\n",
    "#### Applicazione\n",
    "Dato uno spettro con 512 bin, possiamo approssimarlo utilizzando, ad esempio, 40 bande Mel. Ogni banda rappresenta una regione di frequenze, e l'area sotto la finestra triangolare determina l'energia presente in quella banda.\n",
    "\n",
    "In questo modo, lo spettro viene ridotto a 40 valori, ciascuno rappresentante una banda Mel, semplificando l'analisi e rendendola più affine alla percezione umana."
   ]
  },
  {
   "cell_type": "code",
   "execution_count": 29,
   "metadata": {},
   "outputs": [
    {
     "ename": "NameError",
     "evalue": "name 'spect_arr' is not defined",
     "output_type": "error",
     "traceback": [
      "\u001b[31m---------------------------------------------------------------------------\u001b[39m",
      "\u001b[31mNameError\u001b[39m                                 Traceback (most recent call last)",
      "\u001b[36mCell\u001b[39m\u001b[36m \u001b[39m\u001b[32mIn[29]\u001b[39m\u001b[32m, line 1\u001b[39m\n\u001b[32m----> \u001b[39m\u001b[32m1\u001b[39m fft = \u001b[43mspect_arr\u001b[49m[\u001b[32m10\u001b[39m]\n\u001b[32m      2\u001b[39m mfcc = es. MFCC(highFrequencyBound=sr//\u001b[32m2\u001b[39m, sampleRate=sr, numberCoefficients=\u001b[32m14\u001b[39m, inputSize = window//\u001b[32m2\u001b[39m)\n\u001b[32m      3\u001b[39m \u001b[38;5;66;03m# Calcoliamo i MFCC\u001b[39;00m\n",
      "\u001b[31mNameError\u001b[39m: name 'spect_arr' is not defined"
     ]
    }
   ],
   "source": [
    "fft = spect_arr[10]\n",
    "mfcc = es. MFCC(highFrequencyBound=sr//2, sampleRate=sr, numberCoefficients=14, inputSize = window//2)\n",
    "# Calcoliamo i MFCC\n",
    "melbands, coeff = mfcc(fft)\n",
    "coeff[1:]"
   ]
  },
  {
   "cell_type": "markdown",
   "metadata": {},
   "source": [
    "centroide spettrale"
   ]
  },
  {
   "cell_type": "code",
   "execution_count": null,
   "metadata": {},
   "outputs": [],
   "source": [
    "cent_array=[]\n",
    "cent_s_array= []\n",
    "w = es.Windowing()\n",
    "spect = es.Spectrum()  # Initialize the Spectrum\n",
    "centroid = es.Centroid()\n",
    "\n",
    "power = es.InstantPower()\n",
    "silence = es.SilenceRate(thresholds = essentia.array([essentia.db2amp(-100)]))\n",
    "silence_time = []\n",
    "centroid_scaled = es.Centroid(range = 48000)\n",
    "for frame in es.FrameGenerator (audio, 2048, 1024):\n",
    "    p = power(frame)\n",
    "    s = np.subtract(1, silence(frame))\n",
    "\n",
    "    magnitudes = spect(w(frame))\n",
    "    c = centroid(magnitudes)\n",
    "    c_s = centroid_scaled(magnitudes)\n",
    "    cent_array.append(c)\n",
    "    cent_s_array.append(c_s)\n",
    "    silence_time.append(s)\n",
    "\n",
    "x_axis = np.linspace(0, len(audio), len(cent_array))\n",
    "fig = make_subplots(rows=3, cols=1)\n",
    "fig.add_trace(go.Scatter(y=audio), row=1, col=1)\n",
    "fig.add_trace(go.Scatter(x= x_axis, y=np.multiply(cent_array, silence_time), name=\"Centroid\"), row=2, col=1)\n",
    "fig.add_trace(go.Scatter(x= x_axis, y=cent_s_array, name=\"Centroid scaled\"), row=3, col=1)\n"
   ]
  },
  {
   "cell_type": "markdown",
   "metadata": {},
   "source": [
    "# LA classe Pool permette di trattare tutti i vari array che abbiamo generato come analisi, \n",
    "# come se fosse un dizionario (cfr. struttura dati)"
   ]
  },
  {
   "cell_type": "code",
   "execution_count": null,
   "metadata": {},
   "outputs": [],
   "source": [
    "pool = es.Pool()"
   ]
  },
  {
   "cell_type": "code",
   "execution_count": null,
   "metadata": {},
   "outputs": [],
   "source": [
    "\n",
    "# Calcoliamo i MFCC\n",
    "for frame in es.FrameGenerator(audio):\n",
    "    mag = spect(frame)\n",
    "    pool.add('magnitudes', mag)"
   ]
  },
  {
   "cell_type": "code",
   "execution_count": null,
   "metadata": {},
   "outputs": [],
   "source": [
    "pool.remove('magnitudes') #per evitare che aggiunga e non sovrascriva i dati\n",
    "for frame in es.FrameGenerator(audio):\n",
    "    mag = spect(frame)\n",
    "    pool.add('magnitudes', mag)\n"
   ]
  },
  {
   "cell_type": "code",
   "execution_count": null,
   "metadata": {},
   "outputs": [],
   "source": [
    "pool.remove('magnitudes')"
   ]
  },
  {
   "cell_type": "code",
   "execution_count": null,
   "metadata": {},
   "outputs": [],
   "source": [
    "\n",
    "pool['magnitudes']"
   ]
  },
  {
   "cell_type": "code",
   "execution_count": null,
   "metadata": {},
   "outputs": [],
   "source": [
    "##################### ESTRATTORI ######################\n",
    "# built in extractor\n",
    "#per vedere solo MFCC\n",
    "ext = es.Extractor(\n",
    "    highLevel=False,\n",
    "    midLevel=False,\n",
    "    lowLevelFrameSize=1024,\n",
    "    lowLevelHopSize=512,\n",
    "    rhythm=False,\n",
    "    relativeIoi= False\n",
    "    \n",
    ")\n",
    "ext(audio)['lowLevel.mfcc']\n",
    "es.YamlOutput(filename=\"ext.json\", format='json')(ext(audio))\n"
   ]
  },
  {
   "cell_type": "code",
   "execution_count": null,
   "metadata": {},
   "outputs": [],
   "source": [
    "pool = essentia.Pool()\n",
    "# Calcoliamo i MFCC\n",
    "window = 1024\n",
    "w = es.Windowing(zeroPhase=False)\n",
    "spect = es.Spectrum(size = window)  # Initialize the Spectrum\n",
    "mfcc = es.MFCC(highFrequencyBound=sr//2, sampleRate=sr, numberCoefficients=14, inputSize = window//2)   \n",
    "\n",
    "spect_arr = []\n",
    "\n",
    "for frame in es.FrameGenerator(audio, frameSize=window, hopSize=512):\n",
    "    win_spec = spect(w(frame))\n",
    "    melbands, coeff = mfcc(win_spec)\n",
    "    pool.add('mfcc', coeff[1:])\n",
    "   "
   ]
  },
  {
   "cell_type": "code",
   "execution_count": null,
   "metadata": {},
   "outputs": [],
   "source": [
    "pool['mfcc']"
   ]
  },
  {
   "cell_type": "markdown",
   "metadata": {},
   "source": [
    "Aggregazione di pool"
   ]
  },
  {
   "cell_type": "code",
   "execution_count": null,
   "metadata": {},
   "outputs": [],
   "source": [
    "aggregazione = es.PoolAggregator(defaultStats=[\n",
    "    'min',\n",
    "    'max',\n",
    "    'mean',\n",
    "    'median',\n",
    "    'var',\n",
    "    'stdev',\n",
    "    'skew',\n",
    "    'kurt',\n",
    "    'dmean',\n",
    "    'dvar',\n",
    "    'dmean2',\n",
    "    'dvar2',\n",
    "    'cov', \n",
    "    'icov',\n",
    "    'value'\n",
    "])\n",
    "es.YamlOutput(filename=\"mfcc.aggr.json\", format='json')(aggregazione(pool))\n"
   ]
  },
  {
   "cell_type": "markdown",
   "metadata": {},
   "source": [
    "### Formule dei descrittori statistici\n",
    "\n",
    "Di seguito sono riportate le formule matematiche per i principali descrittori statistici utilizzati nell'analisi dei dati:\n",
    "\n",
    "1. **Media (Mean)**  \n",
    "    La media è il valore medio di un insieme di dati:\n",
    "    ```math\n",
    "    \\text{Mean} = \\frac{1}{N} \\sum_{i=1}^{N} x_i\n",
    "    ```\n",
    "\n",
    "2. **Mediana (Median)**  \n",
    "    La mediana è il valore centrale di un insieme di dati ordinati. Se il numero di dati è pari, è la media dei due valori centrali.\n",
    "\n",
    "3. **Varianza (Variance)**  \n",
    "    La varianza misura la dispersione dei dati rispetto alla media:\n",
    "    ```math\n",
    "    \\text{Variance} = \\frac{1}{N} \\sum_{i=1}^{N} (x_i - \\text{Mean})^2\n",
    "    ```\n",
    "\n",
    "4. **Deviazione standard (Standard Deviation)**  \n",
    "    La deviazione standard è la radice quadrata della varianza:\n",
    "    ```math\n",
    "    \\text{Standard Deviation} = \\sqrt{\\text{Variance}}\n",
    "    ```\n",
    "\n",
    "5. **Skewness (Asimmetria)**  \n",
    "    Lo skewness misura l'asimmetria della distribuzione dei dati:\n",
    "    ```math\n",
    "    \\text{Skewness} = \\frac{\\frac{1}{N} \\sum_{i=1}^{N} (x_i - \\text{Mean})^3}{\\left(\\sqrt{\\text{Variance}}\\right)^3}\n",
    "    ```\n",
    "\n",
    "6. **Curtosi (Kurtosis)**  \n",
    "    La curtosi misura la \"piattezza\" della distribuzione dei dati:\n",
    "    ```math\n",
    "    \\text{Kurtosis} = \\frac{\\frac{1}{N} \\sum_{i=1}^{N} (x_i - \\text{Mean})^4}{\\left(\\sqrt{\\text{Variance}}\\right)^4} - 3\n",
    "    ```\n",
    "\n",
    "7. **Media delle differenze (Delta Mean)**  \n",
    "    La media delle differenze misura la variazione media tra valori consecutivi:\n",
    "    ```math\n",
    "    \\text{Delta Mean} = \\frac{1}{N-1} \\sum_{i=1}^{N-1} (x_{i+1} - x_i)\n",
    "    ```\n",
    "\n",
    "8. **Varianza delle differenze (Delta Variance)**  \n",
    "    La varianza delle differenze misura la dispersione delle differenze tra valori consecutivi:\n",
    "    ```math\n",
    "    \\text{Delta Variance} = \\frac{1}{N-1} \\sum_{i=1}^{N-1} \\left((x_{i+1} - x_i) - \\text{Delta Mean}\\right)^2\n",
    "    ```\n",
    "\n",
    "9. **Media delle differenze quadrate (Delta Mean Squared)**  \n",
    "    La media delle differenze quadrate considera le differenze elevate al quadrato:\n",
    "    ```math\n",
    "    \\text{Delta Mean Squared} = \\frac{1}{N-1} \\sum_{i=1}^{N-1} (x_{i+1} - x_i)^2\n",
    "    ```\n",
    "\n",
    "10. **Varianza delle differenze quadrate (Delta Variance Squared)**  \n",
    "     La varianza delle differenze quadrate misura la dispersione delle differenze quadrate:\n",
    "     ```math\n",
    "     \\text{Delta Variance Squared} = \\frac{1}{N-1} \\sum_{i=1}^{N-1} \\left((x_{i+1} - x_i)^2 - \\text{Delta Mean Squared}\\right)^2\n",
    "     ```\n",
    "\n",
    "11. **Covarianza (Covariance)**  \n",
    "     La covarianza misura la relazione lineare tra due variabili \\(x\\) e \\(y\\):\n",
    "     ```math\n",
    "     \\text{Covariance} = \\frac{1}{N} \\sum_{i=1}^{N} (x_i - \\text{Mean}_x)(y_i - \\text{Mean}_y)\n",
    "     ```\n",
    "\n",
    "12. **Inversa della covarianza (Inverse Covariance)**  \n",
    "     L'inversa della covarianza è il reciproco della covarianza, calcolata solo se la covarianza è diversa da zero:\n",
    "     ```math\n",
    "     \\text{Inverse Covariance} = \\frac{1}{\\text{Covariance}}\n",
    "     ```\n",
    "\n",
    "13. **Valore (Value)**  \n",
    "     Il valore rappresenta semplicemente il dato grezzo o una misura diretta senza ulteriori elaborazioni.\n",
    "\n",
    "Queste formule sono fondamentali per descrivere e analizzare le caratteristiche statistiche di un insieme di dati.\n"
   ]
  },
  {
   "cell_type": "markdown",
   "metadata": {},
   "source": []
  },
  {
   "cell_type": "markdown",
   "metadata": {},
   "source": [
    "Vatti a vedere:\n",
    "1) esiste essentia nella libreria ears di MAX MSP\n",
    "2) tensor flow 3.12"
   ]
  },
  {
   "cell_type": "code",
   "execution_count": null,
   "metadata": {},
   "outputs": [],
   "source": []
  },
  {
   "cell_type": "code",
   "execution_count": null,
   "metadata": {},
   "outputs": [],
   "source": []
  }
 ],
 "metadata": {
  "kernelspec": {
   "display_name": "stretch_venv",
   "language": "python",
   "name": "python3"
  },
  "language_info": {
   "codemirror_mode": {
    "name": "ipython",
    "version": 3
   },
   "file_extension": ".py",
   "mimetype": "text/x-python",
   "name": "python",
   "nbconvert_exporter": "python",
   "pygments_lexer": "ipython3",
   "version": "3.12.1"
  }
 },
 "nbformat": 4,
 "nbformat_minor": 2
}
